{
 "cells": [
  {
   "cell_type": "markdown",
   "metadata": {},
   "source": [
    "# Créer une animation vidéo en utilisant python"
   ]
  },
  {
   "cell_type": "markdown",
   "metadata": {},
   "source": [
    "## En utilisant openCV\n",
    "Ici je vais réalisé une animation permettant de visualiser en parallèle la vidéo de capture et l'évolution des coordonnées du poignet droit détectées avec OpenPose\n",
    "\n",
    "### récupération des données"
   ]
  },
  {
   "cell_type": "code",
   "execution_count": 39,
   "metadata": {},
   "outputs": [],
   "source": [
    "import json\n",
    "import os\n",
    "import pandas as pd\n",
    "\n",
    "def get_openpose_data(model):\n",
    "    \"model should be BODY_25 or COCO\"\n",
    "    os.chdir(r\"C:\\Users\\ReViVD\\Desktop\\MultiAcqui\\template\\OpenPose_skellington_capture\\all_json\")\n",
    "\n",
    "    data=[]\n",
    "    for jsonfile in os.listdir():\n",
    "        if 'json' in jsonfile:\n",
    "            with open(jsonfile) as j:\n",
    "                people=json.loads(j.read())['people'][0]['pose_keypoints_2d']\n",
    "                data.append(people)\n",
    "    \n",
    "    if model=='BODY_25':    \n",
    "        iterables=[[\"Nose\",\"Neck\",\"RShoulder\",\"RElbow\",\"RWrist\",\"LShoulder\",\"LElbow\",\"LWrist\",\"MidHip\",\"RHip\",\"RKnee\",\"RAnkle\",\"LHip\",\"LKnee\",\"LAnkle\",\"REye\",\"LEye\",\"REar\",\"LEar\",\"LBigToe\",\"LSmallToe\",\"LHeel\",\"RBigToe\",\"RSmallToe\",\"RHeel\",\"Background\"],['x','y','c']]\n",
    "    if model=='COCO':\n",
    "        iterables=[[\"Nose\",\"Neck\",\"RShoulder\",\"RElbow\",\"RWrist\",\"LShoulder\",\"LElbow\",\"LWrist\",\"RHip\",\"RKnee\",\"RAnkle\",\"LHip\",\"LKnee\",\"LAnkle\",\"REye\",\"LEye\",\"REar\",\"LEar\"],['x','y','c']]\n",
    "    columns=pd.MultiIndex.from_product(iterables, names=['first', 'second'])\n",
    "    data=pd.DataFrame(data, columns=columns)\n",
    "\n",
    "    os.chdir(\"..\")\n",
    "    os.chdir(\"..\")\n",
    "    return(data)\n",
    "\n",
    "op_data=get_openpose_data('COCO')\n",
    "op_data = op_data.sort_index(axis=1)\n",
    "op_data_without_c=op_data.loc[:,(slice(None),('x','y'))].copy() #we don't want to plot c "
   ]
  },
  {
   "cell_type": "markdown",
   "metadata": {},
   "source": [
    "### le code"
   ]
  },
  {
   "cell_type": "code",
   "execution_count": 40,
   "metadata": {},
   "outputs": [
    {
     "name": "stdout",
     "output_type": "stream",
     "text": [
      "Read a new frame:  True\n",
      "Read a new frame:  True\n",
      "Read a new frame:  True\n",
      "Read a new frame:  True\n",
      "Read a new frame:  True\n",
      "Read a new frame:  True\n",
      "Read a new frame:  True\n",
      "Read a new frame:  True\n",
      "Read a new frame:  True\n",
      "Read a new frame:  True\n",
      "Read a new frame:  True\n",
      "Read a new frame:  True\n",
      "Read a new frame:  True\n",
      "Read a new frame:  True\n",
      "Read a new frame:  True\n",
      "Read a new frame:  True\n",
      "Read a new frame:  True\n",
      "Read a new frame:  True\n",
      "Read a new frame:  True\n",
      "Read a new frame:  True\n",
      "Read a new frame:  True\n",
      "Read a new frame:  True\n",
      "Read a new frame:  True\n",
      "Read a new frame:  True\n",
      "Read a new frame:  True\n",
      "Read a new frame:  True\n",
      "Read a new frame:  True\n",
      "Read a new frame:  True\n",
      "Read a new frame:  True\n",
      "Read a new frame:  True\n",
      "Read a new frame:  True\n",
      "Read a new frame:  True\n",
      "Read a new frame:  True\n",
      "Read a new frame:  True\n",
      "Read a new frame:  True\n",
      "Read a new frame:  True\n",
      "Read a new frame:  True\n",
      "Read a new frame:  True\n",
      "Read a new frame:  True\n",
      "Read a new frame:  True\n",
      "Read a new frame:  True\n",
      "Read a new frame:  True\n",
      "Read a new frame:  True\n",
      "Read a new frame:  True\n",
      "Read a new frame:  True\n",
      "Read a new frame:  True\n",
      "Read a new frame:  True\n",
      "Read a new frame:  True\n",
      "Read a new frame:  True\n",
      "Read a new frame:  True\n",
      "Read a new frame:  True\n",
      "Read a new frame:  True\n",
      "Read a new frame:  True\n",
      "Read a new frame:  True\n",
      "Read a new frame:  True\n",
      "Read a new frame:  True\n",
      "Read a new frame:  True\n",
      "Read a new frame:  True\n",
      "Read a new frame:  True\n",
      "Read a new frame:  True\n",
      "Read a new frame:  True\n",
      "Read a new frame:  True\n",
      "Read a new frame:  True\n",
      "Read a new frame:  True\n",
      "Read a new frame:  True\n",
      "Read a new frame:  True\n",
      "Read a new frame:  True\n",
      "Read a new frame:  True\n",
      "Read a new frame:  True\n",
      "Read a new frame:  True\n",
      "Read a new frame:  True\n",
      "Read a new frame:  True\n",
      "Read a new frame:  True\n",
      "Read a new frame:  True\n",
      "Read a new frame:  True\n",
      "Read a new frame:  True\n",
      "Read a new frame:  True\n",
      "Read a new frame:  True\n",
      "Read a new frame:  True\n",
      "Read a new frame:  True\n",
      "Read a new frame:  True\n",
      "Read a new frame:  True\n",
      "Read a new frame:  True\n",
      "Read a new frame:  True\n",
      "Read a new frame:  True\n",
      "Read a new frame:  True\n",
      "Read a new frame:  True\n",
      "Read a new frame:  True\n",
      "Read a new frame:  True\n",
      "Read a new frame:  True\n",
      "Read a new frame:  True\n",
      "Read a new frame:  True\n",
      "Read a new frame:  True\n",
      "Read a new frame:  True\n",
      "Read a new frame:  True\n",
      "Read a new frame:  True\n",
      "Read a new frame:  True\n",
      "Read a new frame:  True\n",
      "Read a new frame:  True\n",
      "Read a new frame:  True\n",
      "Read a new frame:  True\n",
      "Read a new frame:  True\n",
      "Read a new frame:  True\n",
      "Read a new frame:  True\n",
      "Read a new frame:  True\n",
      "Read a new frame:  True\n",
      "Read a new frame:  True\n",
      "Read a new frame:  True\n",
      "Read a new frame:  True\n",
      "Read a new frame:  True\n",
      "Read a new frame:  True\n",
      "Read a new frame:  True\n",
      "Read a new frame:  True\n",
      "Read a new frame:  True\n",
      "Read a new frame:  True\n",
      "Read a new frame:  True\n",
      "Read a new frame:  True\n",
      "Read a new frame:  True\n",
      "Read a new frame:  True\n",
      "Read a new frame:  True\n",
      "Read a new frame:  True\n",
      "Read a new frame:  True\n",
      "Read a new frame:  True\n",
      "Read a new frame:  True\n",
      "Read a new frame:  True\n",
      "Read a new frame:  True\n",
      "Read a new frame:  True\n",
      "Read a new frame:  True\n",
      "Read a new frame:  True\n",
      "Read a new frame:  True\n",
      "Read a new frame:  True\n",
      "Read a new frame:  True\n",
      "Read a new frame:  True\n",
      "Read a new frame:  True\n",
      "Read a new frame:  True\n",
      "Read a new frame:  True\n",
      "Read a new frame:  True\n",
      "Read a new frame:  True\n",
      "Read a new frame:  True\n",
      "Read a new frame:  True\n",
      "Read a new frame:  True\n",
      "Read a new frame:  True\n",
      "Read a new frame:  True\n",
      "Read a new frame:  True\n",
      "Read a new frame:  True\n",
      "Read a new frame:  True\n",
      "Read a new frame:  True\n",
      "Read a new frame:  True\n",
      "Read a new frame:  True\n",
      "Read a new frame:  True\n",
      "Read a new frame:  True\n",
      "Read a new frame:  True\n",
      "Read a new frame:  True\n",
      "Read a new frame:  True\n",
      "Read a new frame:  True\n",
      "Read a new frame:  True\n",
      "Read a new frame:  True\n",
      "Read a new frame:  True\n",
      "Read a new frame:  True\n",
      "Read a new frame:  True\n",
      "Read a new frame:  True\n",
      "Read a new frame:  True\n",
      "Read a new frame:  True\n",
      "Read a new frame:  True\n",
      "Read a new frame:  True\n",
      "Read a new frame:  True\n",
      "Read a new frame:  True\n",
      "Read a new frame:  True\n",
      "Read a new frame:  True\n",
      "Read a new frame:  True\n",
      "Read a new frame:  True\n",
      "Read a new frame:  True\n",
      "Read a new frame:  True\n",
      "Read a new frame:  True\n",
      "Read a new frame:  True\n",
      "Read a new frame:  True\n",
      "Read a new frame:  True\n",
      "Read a new frame:  True\n",
      "Read a new frame:  True\n",
      "Read a new frame:  True\n",
      "Read a new frame:  True\n",
      "Read a new frame:  True\n",
      "Read a new frame:  True\n",
      "Read a new frame:  True\n",
      "Read a new frame:  True\n",
      "Read a new frame:  True\n",
      "Read a new frame:  True\n",
      "Read a new frame:  True\n",
      "Read a new frame:  True\n",
      "Read a new frame:  True\n",
      "Read a new frame:  True\n",
      "Read a new frame:  True\n",
      "Read a new frame:  True\n",
      "Read a new frame:  True\n",
      "Read a new frame:  True\n",
      "Read a new frame:  True\n",
      "Read a new frame:  True\n",
      "Read a new frame:  True\n",
      "Read a new frame:  True\n",
      "Read a new frame:  True\n",
      "Read a new frame:  True\n",
      "Read a new frame:  True\n",
      "Read a new frame:  True\n",
      "Read a new frame:  True\n",
      "Read a new frame:  True\n",
      "Read a new frame:  True\n",
      "Read a new frame:  True\n",
      "Read a new frame:  True\n",
      "Read a new frame:  True\n",
      "Read a new frame:  True\n",
      "Read a new frame:  True\n",
      "Read a new frame:  True\n",
      "Read a new frame:  True\n",
      "Read a new frame:  True\n",
      "Read a new frame:  True\n",
      "Read a new frame:  True\n",
      "Read a new frame:  True\n",
      "Read a new frame:  True\n",
      "Read a new frame:  True\n",
      "Read a new frame:  True\n",
      "Read a new frame:  True\n",
      "Read a new frame:  True\n",
      "Read a new frame:  True\n",
      "Read a new frame:  True\n",
      "Read a new frame:  True\n",
      "Read a new frame:  True\n",
      "Read a new frame:  True\n",
      "Read a new frame:  True\n",
      "Read a new frame:  True\n",
      "Read a new frame:  True\n",
      "Read a new frame:  True\n",
      "Read a new frame:  True\n",
      "Read a new frame:  True\n",
      "Read a new frame:  True\n",
      "Read a new frame:  True\n",
      "Read a new frame:  True\n",
      "Read a new frame:  True\n",
      "Read a new frame:  True\n",
      "Read a new frame:  True\n",
      "Read a new frame:  True\n",
      "Read a new frame:  True\n",
      "Read a new frame:  True\n",
      "Read a new frame:  True\n",
      "Read a new frame:  True\n",
      "Read a new frame:  True\n",
      "Read a new frame:  True\n",
      "Read a new frame:  True\n",
      "Read a new frame:  True\n",
      "Read a new frame:  True\n",
      "Read a new frame:  True\n",
      "Read a new frame:  True\n",
      "Read a new frame:  True\n",
      "Read a new frame:  True\n",
      "Read a new frame:  True\n",
      "Read a new frame:  True\n",
      "Read a new frame:  True\n",
      "Read a new frame:  True\n",
      "Read a new frame:  True\n",
      "Read a new frame:  True\n",
      "Read a new frame:  True\n",
      "Read a new frame:  True\n",
      "Read a new frame:  True\n",
      "Read a new frame:  True\n",
      "Read a new frame:  True\n",
      "Read a new frame:  True\n",
      "Read a new frame:  True\n",
      "Read a new frame:  True\n",
      "Read a new frame:  True\n",
      "Read a new frame:  True\n",
      "Read a new frame:  True\n",
      "Read a new frame:  True\n",
      "Read a new frame:  True\n",
      "Read a new frame:  True\n",
      "Read a new frame:  True\n",
      "Read a new frame:  True\n",
      "Read a new frame:  True\n",
      "Read a new frame:  True\n",
      "Read a new frame:  True\n",
      "Read a new frame:  True\n",
      "Read a new frame:  True\n",
      "Read a new frame:  True\n",
      "Read a new frame:  True\n",
      "Read a new frame:  True\n",
      "Read a new frame:  True\n",
      "Read a new frame:  True\n",
      "Read a new frame:  True\n",
      "Read a new frame:  True\n",
      "Read a new frame:  True\n",
      "Read a new frame:  True\n",
      "Read a new frame:  True\n",
      "Read a new frame:  True\n",
      "Read a new frame:  True\n",
      "Read a new frame:  True\n",
      "Read a new frame:  True\n",
      "Read a new frame:  True\n",
      "Read a new frame:  True\n",
      "Read a new frame:  True\n",
      "Read a new frame:  True\n",
      "Read a new frame:  True\n",
      "Read a new frame:  True\n",
      "Read a new frame:  True\n",
      "Read a new frame:  True\n",
      "Read a new frame:  True\n",
      "Read a new frame:  True\n",
      "Read a new frame:  True\n",
      "Read a new frame:  True\n",
      "Read a new frame:  True\n",
      "Read a new frame:  True\n",
      "Read a new frame:  True\n",
      "Read a new frame:  True\n",
      "Read a new frame:  True\n",
      "Read a new frame:  True\n",
      "Read a new frame:  True\n",
      "Read a new frame:  True\n",
      "Read a new frame:  True\n",
      "Read a new frame:  True\n",
      "Read a new frame:  True\n",
      "Read a new frame:  True\n",
      "Read a new frame:  True\n",
      "Read a new frame:  True\n",
      "Read a new frame:  True\n",
      "Read a new frame:  True\n",
      "Read a new frame:  True\n",
      "Read a new frame:  True\n",
      "Read a new frame:  True\n",
      "Read a new frame:  True\n",
      "Read a new frame:  True\n",
      "Read a new frame:  True\n",
      "Read a new frame:  True\n",
      "Read a new frame:  True\n",
      "Read a new frame:  True\n",
      "Read a new frame:  True\n",
      "Read a new frame:  True\n",
      "Read a new frame:  True\n",
      "Read a new frame:  True\n",
      "Read a new frame:  True\n",
      "Read a new frame:  True\n",
      "Read a new frame:  True\n",
      "Read a new frame:  True\n",
      "Read a new frame:  True\n",
      "Read a new frame:  True\n",
      "Read a new frame:  True\n",
      "Read a new frame:  True\n",
      "Read a new frame:  True\n"
     ]
    },
    {
     "name": "stdout",
     "output_type": "stream",
     "text": [
      "Read a new frame:  True\n",
      "Read a new frame:  True\n",
      "Read a new frame:  True\n",
      "Read a new frame:  True\n",
      "Read a new frame:  True\n",
      "Read a new frame:  True\n",
      "Read a new frame:  True\n",
      "Read a new frame:  True\n",
      "Read a new frame:  True\n",
      "Read a new frame:  True\n",
      "Read a new frame:  True\n",
      "Read a new frame:  True\n",
      "Read a new frame:  True\n",
      "Read a new frame:  True\n",
      "Read a new frame:  True\n",
      "Read a new frame:  True\n",
      "Read a new frame:  True\n",
      "Read a new frame:  True\n",
      "Read a new frame:  True\n",
      "Read a new frame:  True\n",
      "Read a new frame:  True\n",
      "Read a new frame:  True\n",
      "Read a new frame:  True\n",
      "Read a new frame:  True\n",
      "Read a new frame:  True\n",
      "Read a new frame:  True\n",
      "Read a new frame:  True\n",
      "Read a new frame:  True\n",
      "Read a new frame:  True\n",
      "Read a new frame:  True\n",
      "Read a new frame:  True\n",
      "Read a new frame:  True\n",
      "Read a new frame:  True\n",
      "Read a new frame:  True\n",
      "Read a new frame:  True\n",
      "Read a new frame:  True\n",
      "Read a new frame:  True\n",
      "Read a new frame:  True\n",
      "Read a new frame:  True\n",
      "Read a new frame:  True\n",
      "Read a new frame:  True\n",
      "Read a new frame:  True\n",
      "Read a new frame:  True\n",
      "Read a new frame:  True\n",
      "Read a new frame:  True\n",
      "Read a new frame:  True\n",
      "Read a new frame:  True\n",
      "Read a new frame:  True\n",
      "Read a new frame:  True\n",
      "Read a new frame:  True\n",
      "Read a new frame:  True\n",
      "Read a new frame:  True\n",
      "Read a new frame:  True\n",
      "Read a new frame:  True\n",
      "Read a new frame:  True\n",
      "Read a new frame:  True\n",
      "Read a new frame:  True\n",
      "Read a new frame:  True\n",
      "Read a new frame:  True\n",
      "Read a new frame:  True\n",
      "Read a new frame:  True\n",
      "Read a new frame:  True\n",
      "Read a new frame:  True\n",
      "Read a new frame:  True\n",
      "Read a new frame:  True\n",
      "Read a new frame:  True\n",
      "Read a new frame:  True\n",
      "Read a new frame:  True\n",
      "Read a new frame:  True\n",
      "Read a new frame:  True\n",
      "Read a new frame:  True\n",
      "Read a new frame:  True\n",
      "Read a new frame:  True\n",
      "Read a new frame:  True\n",
      "Read a new frame:  True\n",
      "Read a new frame:  True\n",
      "Read a new frame:  True\n",
      "Read a new frame:  True\n",
      "Read a new frame:  True\n",
      "Read a new frame:  True\n",
      "Read a new frame:  True\n",
      "Read a new frame:  True\n",
      "Read a new frame:  True\n",
      "Read a new frame:  True\n",
      "Read a new frame:  True\n",
      "Read a new frame:  True\n",
      "Read a new frame:  True\n",
      "Read a new frame:  True\n",
      "Read a new frame:  True\n",
      "Read a new frame:  True\n",
      "Read a new frame:  True\n",
      "Read a new frame:  True\n",
      "Read a new frame:  True\n",
      "Read a new frame:  True\n",
      "Read a new frame:  True\n",
      "Read a new frame:  True\n",
      "Read a new frame:  True\n",
      "Read a new frame:  True\n",
      "Read a new frame:  True\n",
      "Read a new frame:  True\n",
      "Read a new frame:  True\n",
      "Read a new frame:  True\n",
      "Read a new frame:  True\n",
      "Read a new frame:  True\n",
      "Read a new frame:  True\n",
      "Read a new frame:  True\n",
      "Read a new frame:  True\n",
      "Read a new frame:  True\n",
      "Read a new frame:  True\n",
      "Read a new frame:  True\n",
      "Read a new frame:  True\n",
      "Read a new frame:  True\n",
      "Read a new frame:  True\n",
      "Read a new frame:  True\n",
      "Read a new frame:  True\n",
      "Read a new frame:  True\n",
      "Read a new frame:  True\n",
      "Read a new frame:  True\n",
      "Read a new frame:  True\n",
      "Read a new frame:  True\n",
      "Read a new frame:  True\n",
      "Read a new frame:  True\n",
      "Read a new frame:  True\n",
      "Read a new frame:  True\n",
      "Read a new frame:  True\n",
      "Read a new frame:  True\n",
      "Read a new frame:  True\n",
      "Read a new frame:  True\n",
      "Read a new frame:  True\n",
      "Read a new frame:  True\n",
      "Read a new frame:  True\n",
      "Read a new frame:  True\n",
      "Read a new frame:  False\n"
     ]
    },
    {
     "ename": "NameError",
     "evalue": "name 'FPS' is not defined",
     "output_type": "error",
     "traceback": [
      "\u001b[1;31m---------------------------------------------------------------------------\u001b[0m",
      "\u001b[1;31mNameError\u001b[0m                                 Traceback (most recent call last)",
      "\u001b[1;32m<ipython-input-40-10217ebe7bb7>\u001b[0m in \u001b[0;36m<module>\u001b[1;34m\u001b[0m\n\u001b[0;32m     41\u001b[0m \u001b[1;33m\u001b[0m\u001b[0m\n\u001b[0;32m     42\u001b[0m \u001b[0mfourcc\u001b[0m \u001b[1;33m=\u001b[0m \u001b[0mcv2\u001b[0m\u001b[1;33m.\u001b[0m\u001b[0mVideoWriter_fourcc\u001b[0m\u001b[1;33m(\u001b[0m\u001b[1;33m*\u001b[0m\u001b[1;34m'MJPG'\u001b[0m\u001b[1;33m)\u001b[0m\u001b[1;33m\u001b[0m\u001b[1;33m\u001b[0m\u001b[0m\n\u001b[1;32m---> 43\u001b[1;33m \u001b[0mvideo\u001b[0m \u001b[1;33m=\u001b[0m \u001b[0mcv2\u001b[0m\u001b[1;33m.\u001b[0m\u001b[0mVideoWriter\u001b[0m\u001b[1;33m(\u001b[0m\u001b[1;34m'videos/test_animation.avi'\u001b[0m\u001b[1;33m,\u001b[0m \u001b[0mfourcc\u001b[0m\u001b[1;33m,\u001b[0m \u001b[0mfloat\u001b[0m\u001b[1;33m(\u001b[0m\u001b[0mFPS\u001b[0m\u001b[1;33m)\u001b[0m\u001b[1;33m,\u001b[0m \u001b[1;33m(\u001b[0m\u001b[0mwidth\u001b[0m\u001b[1;33m,\u001b[0m \u001b[0mheight\u001b[0m\u001b[1;33m)\u001b[0m\u001b[1;33m)\u001b[0m\u001b[1;33m\u001b[0m\u001b[1;33m\u001b[0m\u001b[0m\n\u001b[0m\u001b[0;32m     44\u001b[0m \u001b[1;33m\u001b[0m\u001b[0m\n\u001b[0;32m     45\u001b[0m \u001b[1;32mfor\u001b[0m \u001b[0mi\u001b[0m \u001b[1;32min\u001b[0m \u001b[0mrange\u001b[0m\u001b[1;33m(\u001b[0m\u001b[0mcount\u001b[0m\u001b[1;33m)\u001b[0m\u001b[1;33m:\u001b[0m\u001b[1;33m\u001b[0m\u001b[1;33m\u001b[0m\u001b[0m\n",
      "\u001b[1;31mNameError\u001b[0m: name 'FPS' is not defined"
     ]
    },
    {
     "data": {
      "text/plain": [
       "<Figure size 2764.8x777.6 with 0 Axes>"
      ]
     },
     "metadata": {},
     "output_type": "display_data"
    },
    {
     "data": {
      "text/plain": [
       "<Figure size 2764.8x777.6 with 0 Axes>"
      ]
     },
     "metadata": {},
     "output_type": "display_data"
    },
    {
     "data": {
      "text/plain": [
       "<Figure size 2764.8x777.6 with 0 Axes>"
      ]
     },
     "metadata": {},
     "output_type": "display_data"
    },
    {
     "data": {
      "text/plain": [
       "<Figure size 2764.8x777.6 with 0 Axes>"
      ]
     },
     "metadata": {},
     "output_type": "display_data"
    },
    {
     "data": {
      "text/plain": [
       "<Figure size 2764.8x777.6 with 0 Axes>"
      ]
     },
     "metadata": {},
     "output_type": "display_data"
    },
    {
     "data": {
      "text/plain": [
       "<Figure size 2764.8x777.6 with 0 Axes>"
      ]
     },
     "metadata": {},
     "output_type": "display_data"
    },
    {
     "data": {
      "text/plain": [
       "<Figure size 2764.8x777.6 with 0 Axes>"
      ]
     },
     "metadata": {},
     "output_type": "display_data"
    },
    {
     "data": {
      "text/plain": [
       "<Figure size 2764.8x777.6 with 0 Axes>"
      ]
     },
     "metadata": {},
     "output_type": "display_data"
    },
    {
     "data": {
      "text/plain": [
       "<Figure size 2764.8x777.6 with 0 Axes>"
      ]
     },
     "metadata": {},
     "output_type": "display_data"
    },
    {
     "data": {
      "text/plain": [
       "<Figure size 2764.8x777.6 with 0 Axes>"
      ]
     },
     "metadata": {},
     "output_type": "display_data"
    },
    {
     "data": {
      "text/plain": [
       "<Figure size 2764.8x777.6 with 0 Axes>"
      ]
     },
     "metadata": {},
     "output_type": "display_data"
    },
    {
     "data": {
      "text/plain": [
       "<Figure size 2764.8x777.6 with 0 Axes>"
      ]
     },
     "metadata": {},
     "output_type": "display_data"
    },
    {
     "data": {
      "text/plain": [
       "<Figure size 2764.8x777.6 with 0 Axes>"
      ]
     },
     "metadata": {},
     "output_type": "display_data"
    },
    {
     "data": {
      "text/plain": [
       "<Figure size 2764.8x777.6 with 0 Axes>"
      ]
     },
     "metadata": {},
     "output_type": "display_data"
    },
    {
     "data": {
      "text/plain": [
       "<Figure size 2764.8x777.6 with 0 Axes>"
      ]
     },
     "metadata": {},
     "output_type": "display_data"
    },
    {
     "data": {
      "text/plain": [
       "<Figure size 2764.8x777.6 with 0 Axes>"
      ]
     },
     "metadata": {},
     "output_type": "display_data"
    },
    {
     "data": {
      "text/plain": [
       "<Figure size 2764.8x777.6 with 0 Axes>"
      ]
     },
     "metadata": {},
     "output_type": "display_data"
    },
    {
     "data": {
      "text/plain": [
       "<Figure size 2764.8x777.6 with 0 Axes>"
      ]
     },
     "metadata": {},
     "output_type": "display_data"
    },
    {
     "data": {
      "text/plain": [
       "<Figure size 2764.8x777.6 with 0 Axes>"
      ]
     },
     "metadata": {},
     "output_type": "display_data"
    },
    {
     "data": {
      "text/plain": [
       "<Figure size 2764.8x777.6 with 0 Axes>"
      ]
     },
     "metadata": {},
     "output_type": "display_data"
    },
    {
     "data": {
      "text/plain": [
       "<Figure size 2764.8x777.6 with 0 Axes>"
      ]
     },
     "metadata": {},
     "output_type": "display_data"
    },
    {
     "data": {
      "text/plain": [
       "<Figure size 2764.8x777.6 with 0 Axes>"
      ]
     },
     "metadata": {},
     "output_type": "display_data"
    },
    {
     "data": {
      "text/plain": [
       "<Figure size 2764.8x777.6 with 0 Axes>"
      ]
     },
     "metadata": {},
     "output_type": "display_data"
    },
    {
     "data": {
      "text/plain": [
       "<Figure size 2764.8x777.6 with 0 Axes>"
      ]
     },
     "metadata": {},
     "output_type": "display_data"
    },
    {
     "data": {
      "text/plain": [
       "<Figure size 2764.8x777.6 with 0 Axes>"
      ]
     },
     "metadata": {},
     "output_type": "display_data"
    },
    {
     "data": {
      "text/plain": [
       "<Figure size 2764.8x777.6 with 0 Axes>"
      ]
     },
     "metadata": {},
     "output_type": "display_data"
    },
    {
     "data": {
      "text/plain": [
       "<Figure size 2764.8x777.6 with 0 Axes>"
      ]
     },
     "metadata": {},
     "output_type": "display_data"
    },
    {
     "data": {
      "text/plain": [
       "<Figure size 2764.8x777.6 with 0 Axes>"
      ]
     },
     "metadata": {},
     "output_type": "display_data"
    },
    {
     "data": {
      "text/plain": [
       "<Figure size 2764.8x777.6 with 0 Axes>"
      ]
     },
     "metadata": {},
     "output_type": "display_data"
    },
    {
     "data": {
      "text/plain": [
       "<Figure size 2764.8x777.6 with 0 Axes>"
      ]
     },
     "metadata": {},
     "output_type": "display_data"
    },
    {
     "data": {
      "text/plain": [
       "<Figure size 2764.8x777.6 with 0 Axes>"
      ]
     },
     "metadata": {},
     "output_type": "display_data"
    },
    {
     "data": {
      "text/plain": [
       "<Figure size 2764.8x777.6 with 0 Axes>"
      ]
     },
     "metadata": {},
     "output_type": "display_data"
    },
    {
     "data": {
      "text/plain": [
       "<Figure size 2764.8x777.6 with 0 Axes>"
      ]
     },
     "metadata": {},
     "output_type": "display_data"
    },
    {
     "data": {
      "text/plain": [
       "<Figure size 2764.8x777.6 with 0 Axes>"
      ]
     },
     "metadata": {},
     "output_type": "display_data"
    },
    {
     "data": {
      "text/plain": [
       "<Figure size 2764.8x777.6 with 0 Axes>"
      ]
     },
     "metadata": {},
     "output_type": "display_data"
    },
    {
     "data": {
      "text/plain": [
       "<Figure size 2764.8x777.6 with 0 Axes>"
      ]
     },
     "metadata": {},
     "output_type": "display_data"
    },
    {
     "data": {
      "text/plain": [
       "<Figure size 2764.8x777.6 with 0 Axes>"
      ]
     },
     "metadata": {},
     "output_type": "display_data"
    },
    {
     "data": {
      "text/plain": [
       "<Figure size 2764.8x777.6 with 0 Axes>"
      ]
     },
     "metadata": {},
     "output_type": "display_data"
    },
    {
     "data": {
      "text/plain": [
       "<Figure size 2764.8x777.6 with 0 Axes>"
      ]
     },
     "metadata": {},
     "output_type": "display_data"
    },
    {
     "data": {
      "text/plain": [
       "<Figure size 2764.8x777.6 with 0 Axes>"
      ]
     },
     "metadata": {},
     "output_type": "display_data"
    },
    {
     "data": {
      "text/plain": [
       "<Figure size 2764.8x777.6 with 0 Axes>"
      ]
     },
     "metadata": {},
     "output_type": "display_data"
    },
    {
     "data": {
      "text/plain": [
       "<Figure size 2764.8x777.6 with 0 Axes>"
      ]
     },
     "metadata": {},
     "output_type": "display_data"
    },
    {
     "data": {
      "text/plain": [
       "<Figure size 2764.8x777.6 with 0 Axes>"
      ]
     },
     "metadata": {},
     "output_type": "display_data"
    },
    {
     "data": {
      "text/plain": [
       "<Figure size 2764.8x777.6 with 0 Axes>"
      ]
     },
     "metadata": {},
     "output_type": "display_data"
    },
    {
     "data": {
      "text/plain": [
       "<Figure size 2764.8x777.6 with 0 Axes>"
      ]
     },
     "metadata": {},
     "output_type": "display_data"
    },
    {
     "data": {
      "text/plain": [
       "<Figure size 2764.8x777.6 with 0 Axes>"
      ]
     },
     "metadata": {},
     "output_type": "display_data"
    },
    {
     "data": {
      "text/plain": [
       "<Figure size 2764.8x777.6 with 0 Axes>"
      ]
     },
     "metadata": {},
     "output_type": "display_data"
    },
    {
     "data": {
      "text/plain": [
       "<Figure size 2764.8x777.6 with 0 Axes>"
      ]
     },
     "metadata": {},
     "output_type": "display_data"
    },
    {
     "data": {
      "text/plain": [
       "<Figure size 2764.8x777.6 with 0 Axes>"
      ]
     },
     "metadata": {},
     "output_type": "display_data"
    },
    {
     "data": {
      "text/plain": [
       "<Figure size 2764.8x777.6 with 0 Axes>"
      ]
     },
     "metadata": {},
     "output_type": "display_data"
    },
    {
     "data": {
      "text/plain": [
       "<Figure size 2764.8x777.6 with 0 Axes>"
      ]
     },
     "metadata": {},
     "output_type": "display_data"
    },
    {
     "data": {
      "text/plain": [
       "<Figure size 2764.8x777.6 with 0 Axes>"
      ]
     },
     "metadata": {},
     "output_type": "display_data"
    },
    {
     "data": {
      "text/plain": [
       "<Figure size 2764.8x777.6 with 0 Axes>"
      ]
     },
     "metadata": {},
     "output_type": "display_data"
    },
    {
     "data": {
      "text/plain": [
       "<Figure size 2764.8x777.6 with 0 Axes>"
      ]
     },
     "metadata": {},
     "output_type": "display_data"
    },
    {
     "data": {
      "text/plain": [
       "<Figure size 2764.8x777.6 with 0 Axes>"
      ]
     },
     "metadata": {},
     "output_type": "display_data"
    },
    {
     "data": {
      "text/plain": [
       "<Figure size 2764.8x777.6 with 0 Axes>"
      ]
     },
     "metadata": {},
     "output_type": "display_data"
    },
    {
     "data": {
      "text/plain": [
       "<Figure size 2764.8x777.6 with 0 Axes>"
      ]
     },
     "metadata": {},
     "output_type": "display_data"
    },
    {
     "data": {
      "text/plain": [
       "<Figure size 2764.8x777.6 with 0 Axes>"
      ]
     },
     "metadata": {},
     "output_type": "display_data"
    },
    {
     "data": {
      "text/plain": [
       "<Figure size 2764.8x777.6 with 0 Axes>"
      ]
     },
     "metadata": {},
     "output_type": "display_data"
    },
    {
     "data": {
      "text/plain": [
       "<Figure size 2764.8x777.6 with 0 Axes>"
      ]
     },
     "metadata": {},
     "output_type": "display_data"
    },
    {
     "data": {
      "text/plain": [
       "<Figure size 2764.8x777.6 with 0 Axes>"
      ]
     },
     "metadata": {},
     "output_type": "display_data"
    },
    {
     "data": {
      "text/plain": [
       "<Figure size 2764.8x777.6 with 0 Axes>"
      ]
     },
     "metadata": {},
     "output_type": "display_data"
    },
    {
     "data": {
      "text/plain": [
       "<Figure size 2764.8x777.6 with 0 Axes>"
      ]
     },
     "metadata": {},
     "output_type": "display_data"
    },
    {
     "data": {
      "text/plain": [
       "<Figure size 2764.8x777.6 with 0 Axes>"
      ]
     },
     "metadata": {},
     "output_type": "display_data"
    },
    {
     "data": {
      "text/plain": [
       "<Figure size 2764.8x777.6 with 0 Axes>"
      ]
     },
     "metadata": {},
     "output_type": "display_data"
    },
    {
     "data": {
      "text/plain": [
       "<Figure size 2764.8x777.6 with 0 Axes>"
      ]
     },
     "metadata": {},
     "output_type": "display_data"
    },
    {
     "data": {
      "text/plain": [
       "<Figure size 2764.8x777.6 with 0 Axes>"
      ]
     },
     "metadata": {},
     "output_type": "display_data"
    },
    {
     "data": {
      "text/plain": [
       "<Figure size 2764.8x777.6 with 0 Axes>"
      ]
     },
     "metadata": {},
     "output_type": "display_data"
    },
    {
     "data": {
      "text/plain": [
       "<Figure size 2764.8x777.6 with 0 Axes>"
      ]
     },
     "metadata": {},
     "output_type": "display_data"
    },
    {
     "data": {
      "text/plain": [
       "<Figure size 2764.8x777.6 with 0 Axes>"
      ]
     },
     "metadata": {},
     "output_type": "display_data"
    },
    {
     "data": {
      "text/plain": [
       "<Figure size 2764.8x777.6 with 0 Axes>"
      ]
     },
     "metadata": {},
     "output_type": "display_data"
    },
    {
     "data": {
      "text/plain": [
       "<Figure size 2764.8x777.6 with 0 Axes>"
      ]
     },
     "metadata": {},
     "output_type": "display_data"
    },
    {
     "data": {
      "text/plain": [
       "<Figure size 2764.8x777.6 with 0 Axes>"
      ]
     },
     "metadata": {},
     "output_type": "display_data"
    },
    {
     "data": {
      "text/plain": [
       "<Figure size 2764.8x777.6 with 0 Axes>"
      ]
     },
     "metadata": {},
     "output_type": "display_data"
    },
    {
     "data": {
      "text/plain": [
       "<Figure size 2764.8x777.6 with 0 Axes>"
      ]
     },
     "metadata": {},
     "output_type": "display_data"
    },
    {
     "data": {
      "text/plain": [
       "<Figure size 2764.8x777.6 with 0 Axes>"
      ]
     },
     "metadata": {},
     "output_type": "display_data"
    },
    {
     "data": {
      "text/plain": [
       "<Figure size 2764.8x777.6 with 0 Axes>"
      ]
     },
     "metadata": {},
     "output_type": "display_data"
    },
    {
     "data": {
      "text/plain": [
       "<Figure size 2764.8x777.6 with 0 Axes>"
      ]
     },
     "metadata": {},
     "output_type": "display_data"
    },
    {
     "data": {
      "text/plain": [
       "<Figure size 2764.8x777.6 with 0 Axes>"
      ]
     },
     "metadata": {},
     "output_type": "display_data"
    },
    {
     "data": {
      "text/plain": [
       "<Figure size 2764.8x777.6 with 0 Axes>"
      ]
     },
     "metadata": {},
     "output_type": "display_data"
    },
    {
     "data": {
      "text/plain": [
       "<Figure size 2764.8x777.6 with 0 Axes>"
      ]
     },
     "metadata": {},
     "output_type": "display_data"
    },
    {
     "data": {
      "text/plain": [
       "<Figure size 2764.8x777.6 with 0 Axes>"
      ]
     },
     "metadata": {},
     "output_type": "display_data"
    },
    {
     "data": {
      "text/plain": [
       "<Figure size 2764.8x777.6 with 0 Axes>"
      ]
     },
     "metadata": {},
     "output_type": "display_data"
    },
    {
     "data": {
      "text/plain": [
       "<Figure size 2764.8x777.6 with 0 Axes>"
      ]
     },
     "metadata": {},
     "output_type": "display_data"
    },
    {
     "data": {
      "text/plain": [
       "<Figure size 2764.8x777.6 with 0 Axes>"
      ]
     },
     "metadata": {},
     "output_type": "display_data"
    },
    {
     "data": {
      "text/plain": [
       "<Figure size 2764.8x777.6 with 0 Axes>"
      ]
     },
     "metadata": {},
     "output_type": "display_data"
    },
    {
     "data": {
      "text/plain": [
       "<Figure size 2764.8x777.6 with 0 Axes>"
      ]
     },
     "metadata": {},
     "output_type": "display_data"
    },
    {
     "data": {
      "text/plain": [
       "<Figure size 2764.8x777.6 with 0 Axes>"
      ]
     },
     "metadata": {},
     "output_type": "display_data"
    },
    {
     "data": {
      "text/plain": [
       "<Figure size 2764.8x777.6 with 0 Axes>"
      ]
     },
     "metadata": {},
     "output_type": "display_data"
    },
    {
     "data": {
      "text/plain": [
       "<Figure size 2764.8x777.6 with 0 Axes>"
      ]
     },
     "metadata": {},
     "output_type": "display_data"
    },
    {
     "data": {
      "text/plain": [
       "<Figure size 2764.8x777.6 with 0 Axes>"
      ]
     },
     "metadata": {},
     "output_type": "display_data"
    },
    {
     "data": {
      "text/plain": [
       "<Figure size 2764.8x777.6 with 0 Axes>"
      ]
     },
     "metadata": {},
     "output_type": "display_data"
    },
    {
     "data": {
      "text/plain": [
       "<Figure size 2764.8x777.6 with 0 Axes>"
      ]
     },
     "metadata": {},
     "output_type": "display_data"
    },
    {
     "data": {
      "text/plain": [
       "<Figure size 2764.8x777.6 with 0 Axes>"
      ]
     },
     "metadata": {},
     "output_type": "display_data"
    },
    {
     "data": {
      "text/plain": [
       "<Figure size 2764.8x777.6 with 0 Axes>"
      ]
     },
     "metadata": {},
     "output_type": "display_data"
    },
    {
     "data": {
      "text/plain": [
       "<Figure size 2764.8x777.6 with 0 Axes>"
      ]
     },
     "metadata": {},
     "output_type": "display_data"
    },
    {
     "data": {
      "text/plain": [
       "<Figure size 2764.8x777.6 with 0 Axes>"
      ]
     },
     "metadata": {},
     "output_type": "display_data"
    },
    {
     "data": {
      "text/plain": [
       "<Figure size 2764.8x777.6 with 0 Axes>"
      ]
     },
     "metadata": {},
     "output_type": "display_data"
    },
    {
     "data": {
      "text/plain": [
       "<Figure size 2764.8x777.6 with 0 Axes>"
      ]
     },
     "metadata": {},
     "output_type": "display_data"
    },
    {
     "data": {
      "text/plain": [
       "<Figure size 2764.8x777.6 with 0 Axes>"
      ]
     },
     "metadata": {},
     "output_type": "display_data"
    },
    {
     "data": {
      "text/plain": [
       "<Figure size 2764.8x777.6 with 0 Axes>"
      ]
     },
     "metadata": {},
     "output_type": "display_data"
    },
    {
     "data": {
      "text/plain": [
       "<Figure size 2764.8x777.6 with 0 Axes>"
      ]
     },
     "metadata": {},
     "output_type": "display_data"
    },
    {
     "data": {
      "text/plain": [
       "<Figure size 2764.8x777.6 with 0 Axes>"
      ]
     },
     "metadata": {},
     "output_type": "display_data"
    },
    {
     "data": {
      "text/plain": [
       "<Figure size 2764.8x777.6 with 0 Axes>"
      ]
     },
     "metadata": {},
     "output_type": "display_data"
    },
    {
     "data": {
      "text/plain": [
       "<Figure size 2764.8x777.6 with 0 Axes>"
      ]
     },
     "metadata": {},
     "output_type": "display_data"
    },
    {
     "data": {
      "text/plain": [
       "<Figure size 2764.8x777.6 with 0 Axes>"
      ]
     },
     "metadata": {},
     "output_type": "display_data"
    },
    {
     "data": {
      "text/plain": [
       "<Figure size 2764.8x777.6 with 0 Axes>"
      ]
     },
     "metadata": {},
     "output_type": "display_data"
    },
    {
     "data": {
      "text/plain": [
       "<Figure size 2764.8x777.6 with 0 Axes>"
      ]
     },
     "metadata": {},
     "output_type": "display_data"
    },
    {
     "data": {
      "text/plain": [
       "<Figure size 2764.8x777.6 with 0 Axes>"
      ]
     },
     "metadata": {},
     "output_type": "display_data"
    },
    {
     "data": {
      "text/plain": [
       "<Figure size 2764.8x777.6 with 0 Axes>"
      ]
     },
     "metadata": {},
     "output_type": "display_data"
    },
    {
     "data": {
      "text/plain": [
       "<Figure size 2764.8x777.6 with 0 Axes>"
      ]
     },
     "metadata": {},
     "output_type": "display_data"
    },
    {
     "data": {
      "text/plain": [
       "<Figure size 2764.8x777.6 with 0 Axes>"
      ]
     },
     "metadata": {},
     "output_type": "display_data"
    },
    {
     "data": {
      "text/plain": [
       "<Figure size 2764.8x777.6 with 0 Axes>"
      ]
     },
     "metadata": {},
     "output_type": "display_data"
    },
    {
     "data": {
      "text/plain": [
       "<Figure size 2764.8x777.6 with 0 Axes>"
      ]
     },
     "metadata": {},
     "output_type": "display_data"
    },
    {
     "data": {
      "text/plain": [
       "<Figure size 2764.8x777.6 with 0 Axes>"
      ]
     },
     "metadata": {},
     "output_type": "display_data"
    },
    {
     "data": {
      "text/plain": [
       "<Figure size 2764.8x777.6 with 0 Axes>"
      ]
     },
     "metadata": {},
     "output_type": "display_data"
    },
    {
     "data": {
      "text/plain": [
       "<Figure size 2764.8x777.6 with 0 Axes>"
      ]
     },
     "metadata": {},
     "output_type": "display_data"
    },
    {
     "data": {
      "text/plain": [
       "<Figure size 2764.8x777.6 with 0 Axes>"
      ]
     },
     "metadata": {},
     "output_type": "display_data"
    },
    {
     "data": {
      "text/plain": [
       "<Figure size 2764.8x777.6 with 0 Axes>"
      ]
     },
     "metadata": {},
     "output_type": "display_data"
    },
    {
     "data": {
      "text/plain": [
       "<Figure size 2764.8x777.6 with 0 Axes>"
      ]
     },
     "metadata": {},
     "output_type": "display_data"
    },
    {
     "data": {
      "text/plain": [
       "<Figure size 2764.8x777.6 with 0 Axes>"
      ]
     },
     "metadata": {},
     "output_type": "display_data"
    },
    {
     "data": {
      "text/plain": [
       "<Figure size 2764.8x777.6 with 0 Axes>"
      ]
     },
     "metadata": {},
     "output_type": "display_data"
    },
    {
     "data": {
      "text/plain": [
       "<Figure size 2764.8x777.6 with 0 Axes>"
      ]
     },
     "metadata": {},
     "output_type": "display_data"
    },
    {
     "data": {
      "text/plain": [
       "<Figure size 2764.8x777.6 with 0 Axes>"
      ]
     },
     "metadata": {},
     "output_type": "display_data"
    },
    {
     "data": {
      "text/plain": [
       "<Figure size 2764.8x777.6 with 0 Axes>"
      ]
     },
     "metadata": {},
     "output_type": "display_data"
    },
    {
     "data": {
      "text/plain": [
       "<Figure size 2764.8x777.6 with 0 Axes>"
      ]
     },
     "metadata": {},
     "output_type": "display_data"
    },
    {
     "data": {
      "text/plain": [
       "<Figure size 2764.8x777.6 with 0 Axes>"
      ]
     },
     "metadata": {},
     "output_type": "display_data"
    },
    {
     "data": {
      "text/plain": [
       "<Figure size 2764.8x777.6 with 0 Axes>"
      ]
     },
     "metadata": {},
     "output_type": "display_data"
    },
    {
     "data": {
      "text/plain": [
       "<Figure size 2764.8x777.6 with 0 Axes>"
      ]
     },
     "metadata": {},
     "output_type": "display_data"
    },
    {
     "data": {
      "text/plain": [
       "<Figure size 2764.8x777.6 with 0 Axes>"
      ]
     },
     "metadata": {},
     "output_type": "display_data"
    },
    {
     "data": {
      "text/plain": [
       "<Figure size 2764.8x777.6 with 0 Axes>"
      ]
     },
     "metadata": {},
     "output_type": "display_data"
    },
    {
     "data": {
      "text/plain": [
       "<Figure size 2764.8x777.6 with 0 Axes>"
      ]
     },
     "metadata": {},
     "output_type": "display_data"
    },
    {
     "data": {
      "text/plain": [
       "<Figure size 2764.8x777.6 with 0 Axes>"
      ]
     },
     "metadata": {},
     "output_type": "display_data"
    },
    {
     "data": {
      "text/plain": [
       "<Figure size 2764.8x777.6 with 0 Axes>"
      ]
     },
     "metadata": {},
     "output_type": "display_data"
    },
    {
     "data": {
      "text/plain": [
       "<Figure size 2764.8x777.6 with 0 Axes>"
      ]
     },
     "metadata": {},
     "output_type": "display_data"
    },
    {
     "data": {
      "text/plain": [
       "<Figure size 2764.8x777.6 with 0 Axes>"
      ]
     },
     "metadata": {},
     "output_type": "display_data"
    },
    {
     "data": {
      "text/plain": [
       "<Figure size 2764.8x777.6 with 0 Axes>"
      ]
     },
     "metadata": {},
     "output_type": "display_data"
    },
    {
     "data": {
      "text/plain": [
       "<Figure size 2764.8x777.6 with 0 Axes>"
      ]
     },
     "metadata": {},
     "output_type": "display_data"
    },
    {
     "data": {
      "text/plain": [
       "<Figure size 2764.8x777.6 with 0 Axes>"
      ]
     },
     "metadata": {},
     "output_type": "display_data"
    },
    {
     "data": {
      "text/plain": [
       "<Figure size 2764.8x777.6 with 0 Axes>"
      ]
     },
     "metadata": {},
     "output_type": "display_data"
    },
    {
     "data": {
      "text/plain": [
       "<Figure size 2764.8x777.6 with 0 Axes>"
      ]
     },
     "metadata": {},
     "output_type": "display_data"
    },
    {
     "data": {
      "text/plain": [
       "<Figure size 2764.8x777.6 with 0 Axes>"
      ]
     },
     "metadata": {},
     "output_type": "display_data"
    },
    {
     "data": {
      "text/plain": [
       "<Figure size 2764.8x777.6 with 0 Axes>"
      ]
     },
     "metadata": {},
     "output_type": "display_data"
    },
    {
     "data": {
      "text/plain": [
       "<Figure size 2764.8x777.6 with 0 Axes>"
      ]
     },
     "metadata": {},
     "output_type": "display_data"
    },
    {
     "data": {
      "text/plain": [
       "<Figure size 2764.8x777.6 with 0 Axes>"
      ]
     },
     "metadata": {},
     "output_type": "display_data"
    },
    {
     "data": {
      "text/plain": [
       "<Figure size 2764.8x777.6 with 0 Axes>"
      ]
     },
     "metadata": {},
     "output_type": "display_data"
    },
    {
     "data": {
      "text/plain": [
       "<Figure size 2764.8x777.6 with 0 Axes>"
      ]
     },
     "metadata": {},
     "output_type": "display_data"
    },
    {
     "data": {
      "text/plain": [
       "<Figure size 2764.8x777.6 with 0 Axes>"
      ]
     },
     "metadata": {},
     "output_type": "display_data"
    },
    {
     "data": {
      "text/plain": [
       "<Figure size 2764.8x777.6 with 0 Axes>"
      ]
     },
     "metadata": {},
     "output_type": "display_data"
    },
    {
     "data": {
      "text/plain": [
       "<Figure size 2764.8x777.6 with 0 Axes>"
      ]
     },
     "metadata": {},
     "output_type": "display_data"
    },
    {
     "data": {
      "text/plain": [
       "<Figure size 2764.8x777.6 with 0 Axes>"
      ]
     },
     "metadata": {},
     "output_type": "display_data"
    },
    {
     "data": {
      "text/plain": [
       "<Figure size 2764.8x777.6 with 0 Axes>"
      ]
     },
     "metadata": {},
     "output_type": "display_data"
    },
    {
     "data": {
      "text/plain": [
       "<Figure size 2764.8x777.6 with 0 Axes>"
      ]
     },
     "metadata": {},
     "output_type": "display_data"
    },
    {
     "data": {
      "text/plain": [
       "<Figure size 2764.8x777.6 with 0 Axes>"
      ]
     },
     "metadata": {},
     "output_type": "display_data"
    },
    {
     "data": {
      "text/plain": [
       "<Figure size 2764.8x777.6 with 0 Axes>"
      ]
     },
     "metadata": {},
     "output_type": "display_data"
    },
    {
     "data": {
      "text/plain": [
       "<Figure size 2764.8x777.6 with 0 Axes>"
      ]
     },
     "metadata": {},
     "output_type": "display_data"
    },
    {
     "data": {
      "text/plain": [
       "<Figure size 2764.8x777.6 with 0 Axes>"
      ]
     },
     "metadata": {},
     "output_type": "display_data"
    },
    {
     "data": {
      "text/plain": [
       "<Figure size 2764.8x777.6 with 0 Axes>"
      ]
     },
     "metadata": {},
     "output_type": "display_data"
    },
    {
     "data": {
      "text/plain": [
       "<Figure size 2764.8x777.6 with 0 Axes>"
      ]
     },
     "metadata": {},
     "output_type": "display_data"
    },
    {
     "data": {
      "text/plain": [
       "<Figure size 2764.8x777.6 with 0 Axes>"
      ]
     },
     "metadata": {},
     "output_type": "display_data"
    },
    {
     "data": {
      "text/plain": [
       "<Figure size 2764.8x777.6 with 0 Axes>"
      ]
     },
     "metadata": {},
     "output_type": "display_data"
    },
    {
     "data": {
      "text/plain": [
       "<Figure size 2764.8x777.6 with 0 Axes>"
      ]
     },
     "metadata": {},
     "output_type": "display_data"
    },
    {
     "data": {
      "text/plain": [
       "<Figure size 2764.8x777.6 with 0 Axes>"
      ]
     },
     "metadata": {},
     "output_type": "display_data"
    },
    {
     "data": {
      "text/plain": [
       "<Figure size 2764.8x777.6 with 0 Axes>"
      ]
     },
     "metadata": {},
     "output_type": "display_data"
    },
    {
     "data": {
      "text/plain": [
       "<Figure size 2764.8x777.6 with 0 Axes>"
      ]
     },
     "metadata": {},
     "output_type": "display_data"
    },
    {
     "data": {
      "text/plain": [
       "<Figure size 2764.8x777.6 with 0 Axes>"
      ]
     },
     "metadata": {},
     "output_type": "display_data"
    },
    {
     "data": {
      "text/plain": [
       "<Figure size 2764.8x777.6 with 0 Axes>"
      ]
     },
     "metadata": {},
     "output_type": "display_data"
    },
    {
     "data": {
      "text/plain": [
       "<Figure size 2764.8x777.6 with 0 Axes>"
      ]
     },
     "metadata": {},
     "output_type": "display_data"
    },
    {
     "data": {
      "text/plain": [
       "<Figure size 2764.8x777.6 with 0 Axes>"
      ]
     },
     "metadata": {},
     "output_type": "display_data"
    },
    {
     "data": {
      "text/plain": [
       "<Figure size 2764.8x777.6 with 0 Axes>"
      ]
     },
     "metadata": {},
     "output_type": "display_data"
    },
    {
     "data": {
      "text/plain": [
       "<Figure size 2764.8x777.6 with 0 Axes>"
      ]
     },
     "metadata": {},
     "output_type": "display_data"
    },
    {
     "data": {
      "text/plain": [
       "<Figure size 2764.8x777.6 with 0 Axes>"
      ]
     },
     "metadata": {},
     "output_type": "display_data"
    },
    {
     "data": {
      "text/plain": [
       "<Figure size 2764.8x777.6 with 0 Axes>"
      ]
     },
     "metadata": {},
     "output_type": "display_data"
    },
    {
     "data": {
      "text/plain": [
       "<Figure size 2764.8x777.6 with 0 Axes>"
      ]
     },
     "metadata": {},
     "output_type": "display_data"
    },
    {
     "data": {
      "text/plain": [
       "<Figure size 2764.8x777.6 with 0 Axes>"
      ]
     },
     "metadata": {},
     "output_type": "display_data"
    },
    {
     "data": {
      "text/plain": [
       "<Figure size 2764.8x777.6 with 0 Axes>"
      ]
     },
     "metadata": {},
     "output_type": "display_data"
    },
    {
     "data": {
      "text/plain": [
       "<Figure size 2764.8x777.6 with 0 Axes>"
      ]
     },
     "metadata": {},
     "output_type": "display_data"
    },
    {
     "data": {
      "text/plain": [
       "<Figure size 2764.8x777.6 with 0 Axes>"
      ]
     },
     "metadata": {},
     "output_type": "display_data"
    },
    {
     "data": {
      "text/plain": [
       "<Figure size 2764.8x777.6 with 0 Axes>"
      ]
     },
     "metadata": {},
     "output_type": "display_data"
    },
    {
     "data": {
      "text/plain": [
       "<Figure size 2764.8x777.6 with 0 Axes>"
      ]
     },
     "metadata": {},
     "output_type": "display_data"
    },
    {
     "data": {
      "text/plain": [
       "<Figure size 2764.8x777.6 with 0 Axes>"
      ]
     },
     "metadata": {},
     "output_type": "display_data"
    },
    {
     "data": {
      "text/plain": [
       "<Figure size 2764.8x777.6 with 0 Axes>"
      ]
     },
     "metadata": {},
     "output_type": "display_data"
    },
    {
     "data": {
      "text/plain": [
       "<Figure size 2764.8x777.6 with 0 Axes>"
      ]
     },
     "metadata": {},
     "output_type": "display_data"
    },
    {
     "data": {
      "text/plain": [
       "<Figure size 2764.8x777.6 with 0 Axes>"
      ]
     },
     "metadata": {},
     "output_type": "display_data"
    },
    {
     "data": {
      "text/plain": [
       "<Figure size 2764.8x777.6 with 0 Axes>"
      ]
     },
     "metadata": {},
     "output_type": "display_data"
    },
    {
     "data": {
      "text/plain": [
       "<Figure size 2764.8x777.6 with 0 Axes>"
      ]
     },
     "metadata": {},
     "output_type": "display_data"
    },
    {
     "data": {
      "text/plain": [
       "<Figure size 2764.8x777.6 with 0 Axes>"
      ]
     },
     "metadata": {},
     "output_type": "display_data"
    },
    {
     "data": {
      "text/plain": [
       "<Figure size 2764.8x777.6 with 0 Axes>"
      ]
     },
     "metadata": {},
     "output_type": "display_data"
    },
    {
     "data": {
      "text/plain": [
       "<Figure size 2764.8x777.6 with 0 Axes>"
      ]
     },
     "metadata": {},
     "output_type": "display_data"
    },
    {
     "data": {
      "text/plain": [
       "<Figure size 2764.8x777.6 with 0 Axes>"
      ]
     },
     "metadata": {},
     "output_type": "display_data"
    },
    {
     "data": {
      "text/plain": [
       "<Figure size 2764.8x777.6 with 0 Axes>"
      ]
     },
     "metadata": {},
     "output_type": "display_data"
    },
    {
     "data": {
      "text/plain": [
       "<Figure size 2764.8x777.6 with 0 Axes>"
      ]
     },
     "metadata": {},
     "output_type": "display_data"
    },
    {
     "data": {
      "text/plain": [
       "<Figure size 2764.8x777.6 with 0 Axes>"
      ]
     },
     "metadata": {},
     "output_type": "display_data"
    },
    {
     "data": {
      "text/plain": [
       "<Figure size 2764.8x777.6 with 0 Axes>"
      ]
     },
     "metadata": {},
     "output_type": "display_data"
    },
    {
     "data": {
      "text/plain": [
       "<Figure size 2764.8x777.6 with 0 Axes>"
      ]
     },
     "metadata": {},
     "output_type": "display_data"
    },
    {
     "data": {
      "text/plain": [
       "<Figure size 2764.8x777.6 with 0 Axes>"
      ]
     },
     "metadata": {},
     "output_type": "display_data"
    },
    {
     "data": {
      "text/plain": [
       "<Figure size 2764.8x777.6 with 0 Axes>"
      ]
     },
     "metadata": {},
     "output_type": "display_data"
    },
    {
     "data": {
      "text/plain": [
       "<Figure size 2764.8x777.6 with 0 Axes>"
      ]
     },
     "metadata": {},
     "output_type": "display_data"
    },
    {
     "data": {
      "text/plain": [
       "<Figure size 2764.8x777.6 with 0 Axes>"
      ]
     },
     "metadata": {},
     "output_type": "display_data"
    },
    {
     "data": {
      "text/plain": [
       "<Figure size 2764.8x777.6 with 0 Axes>"
      ]
     },
     "metadata": {},
     "output_type": "display_data"
    },
    {
     "data": {
      "text/plain": [
       "<Figure size 2764.8x777.6 with 0 Axes>"
      ]
     },
     "metadata": {},
     "output_type": "display_data"
    },
    {
     "data": {
      "text/plain": [
       "<Figure size 2764.8x777.6 with 0 Axes>"
      ]
     },
     "metadata": {},
     "output_type": "display_data"
    },
    {
     "data": {
      "text/plain": [
       "<Figure size 2764.8x777.6 with 0 Axes>"
      ]
     },
     "metadata": {},
     "output_type": "display_data"
    },
    {
     "data": {
      "text/plain": [
       "<Figure size 2764.8x777.6 with 0 Axes>"
      ]
     },
     "metadata": {},
     "output_type": "display_data"
    },
    {
     "data": {
      "text/plain": [
       "<Figure size 2764.8x777.6 with 0 Axes>"
      ]
     },
     "metadata": {},
     "output_type": "display_data"
    },
    {
     "data": {
      "text/plain": [
       "<Figure size 2764.8x777.6 with 0 Axes>"
      ]
     },
     "metadata": {},
     "output_type": "display_data"
    },
    {
     "data": {
      "text/plain": [
       "<Figure size 2764.8x777.6 with 0 Axes>"
      ]
     },
     "metadata": {},
     "output_type": "display_data"
    },
    {
     "data": {
      "text/plain": [
       "<Figure size 2764.8x777.6 with 0 Axes>"
      ]
     },
     "metadata": {},
     "output_type": "display_data"
    },
    {
     "data": {
      "text/plain": [
       "<Figure size 2764.8x777.6 with 0 Axes>"
      ]
     },
     "metadata": {},
     "output_type": "display_data"
    },
    {
     "data": {
      "text/plain": [
       "<Figure size 2764.8x777.6 with 0 Axes>"
      ]
     },
     "metadata": {},
     "output_type": "display_data"
    },
    {
     "data": {
      "text/plain": [
       "<Figure size 2764.8x777.6 with 0 Axes>"
      ]
     },
     "metadata": {},
     "output_type": "display_data"
    },
    {
     "data": {
      "text/plain": [
       "<Figure size 2764.8x777.6 with 0 Axes>"
      ]
     },
     "metadata": {},
     "output_type": "display_data"
    },
    {
     "data": {
      "text/plain": [
       "<Figure size 2764.8x777.6 with 0 Axes>"
      ]
     },
     "metadata": {},
     "output_type": "display_data"
    },
    {
     "data": {
      "text/plain": [
       "<Figure size 2764.8x777.6 with 0 Axes>"
      ]
     },
     "metadata": {},
     "output_type": "display_data"
    },
    {
     "data": {
      "text/plain": [
       "<Figure size 2764.8x777.6 with 0 Axes>"
      ]
     },
     "metadata": {},
     "output_type": "display_data"
    },
    {
     "data": {
      "text/plain": [
       "<Figure size 2764.8x777.6 with 0 Axes>"
      ]
     },
     "metadata": {},
     "output_type": "display_data"
    },
    {
     "data": {
      "text/plain": [
       "<Figure size 2764.8x777.6 with 0 Axes>"
      ]
     },
     "metadata": {},
     "output_type": "display_data"
    },
    {
     "data": {
      "text/plain": [
       "<Figure size 2764.8x777.6 with 0 Axes>"
      ]
     },
     "metadata": {},
     "output_type": "display_data"
    },
    {
     "data": {
      "text/plain": [
       "<Figure size 2764.8x777.6 with 0 Axes>"
      ]
     },
     "metadata": {},
     "output_type": "display_data"
    },
    {
     "data": {
      "text/plain": [
       "<Figure size 2764.8x777.6 with 0 Axes>"
      ]
     },
     "metadata": {},
     "output_type": "display_data"
    },
    {
     "data": {
      "text/plain": [
       "<Figure size 2764.8x777.6 with 0 Axes>"
      ]
     },
     "metadata": {},
     "output_type": "display_data"
    },
    {
     "data": {
      "text/plain": [
       "<Figure size 2764.8x777.6 with 0 Axes>"
      ]
     },
     "metadata": {},
     "output_type": "display_data"
    },
    {
     "data": {
      "text/plain": [
       "<Figure size 2764.8x777.6 with 0 Axes>"
      ]
     },
     "metadata": {},
     "output_type": "display_data"
    },
    {
     "data": {
      "text/plain": [
       "<Figure size 2764.8x777.6 with 0 Axes>"
      ]
     },
     "metadata": {},
     "output_type": "display_data"
    },
    {
     "data": {
      "text/plain": [
       "<Figure size 2764.8x777.6 with 0 Axes>"
      ]
     },
     "metadata": {},
     "output_type": "display_data"
    },
    {
     "data": {
      "text/plain": [
       "<Figure size 2764.8x777.6 with 0 Axes>"
      ]
     },
     "metadata": {},
     "output_type": "display_data"
    },
    {
     "data": {
      "text/plain": [
       "<Figure size 2764.8x777.6 with 0 Axes>"
      ]
     },
     "metadata": {},
     "output_type": "display_data"
    },
    {
     "data": {
      "text/plain": [
       "<Figure size 2764.8x777.6 with 0 Axes>"
      ]
     },
     "metadata": {},
     "output_type": "display_data"
    },
    {
     "data": {
      "text/plain": [
       "<Figure size 2764.8x777.6 with 0 Axes>"
      ]
     },
     "metadata": {},
     "output_type": "display_data"
    },
    {
     "data": {
      "text/plain": [
       "<Figure size 2764.8x777.6 with 0 Axes>"
      ]
     },
     "metadata": {},
     "output_type": "display_data"
    },
    {
     "data": {
      "text/plain": [
       "<Figure size 2764.8x777.6 with 0 Axes>"
      ]
     },
     "metadata": {},
     "output_type": "display_data"
    },
    {
     "data": {
      "text/plain": [
       "<Figure size 2764.8x777.6 with 0 Axes>"
      ]
     },
     "metadata": {},
     "output_type": "display_data"
    },
    {
     "data": {
      "text/plain": [
       "<Figure size 2764.8x777.6 with 0 Axes>"
      ]
     },
     "metadata": {},
     "output_type": "display_data"
    },
    {
     "data": {
      "text/plain": [
       "<Figure size 2764.8x777.6 with 0 Axes>"
      ]
     },
     "metadata": {},
     "output_type": "display_data"
    },
    {
     "data": {
      "text/plain": [
       "<Figure size 2764.8x777.6 with 0 Axes>"
      ]
     },
     "metadata": {},
     "output_type": "display_data"
    },
    {
     "data": {
      "text/plain": [
       "<Figure size 2764.8x777.6 with 0 Axes>"
      ]
     },
     "metadata": {},
     "output_type": "display_data"
    },
    {
     "data": {
      "text/plain": [
       "<Figure size 2764.8x777.6 with 0 Axes>"
      ]
     },
     "metadata": {},
     "output_type": "display_data"
    },
    {
     "data": {
      "text/plain": [
       "<Figure size 2764.8x777.6 with 0 Axes>"
      ]
     },
     "metadata": {},
     "output_type": "display_data"
    },
    {
     "data": {
      "text/plain": [
       "<Figure size 2764.8x777.6 with 0 Axes>"
      ]
     },
     "metadata": {},
     "output_type": "display_data"
    },
    {
     "data": {
      "text/plain": [
       "<Figure size 2764.8x777.6 with 0 Axes>"
      ]
     },
     "metadata": {},
     "output_type": "display_data"
    },
    {
     "data": {
      "text/plain": [
       "<Figure size 2764.8x777.6 with 0 Axes>"
      ]
     },
     "metadata": {},
     "output_type": "display_data"
    },
    {
     "data": {
      "text/plain": [
       "<Figure size 2764.8x777.6 with 0 Axes>"
      ]
     },
     "metadata": {},
     "output_type": "display_data"
    },
    {
     "data": {
      "text/plain": [
       "<Figure size 2764.8x777.6 with 0 Axes>"
      ]
     },
     "metadata": {},
     "output_type": "display_data"
    },
    {
     "data": {
      "text/plain": [
       "<Figure size 2764.8x777.6 with 0 Axes>"
      ]
     },
     "metadata": {},
     "output_type": "display_data"
    },
    {
     "data": {
      "text/plain": [
       "<Figure size 2764.8x777.6 with 0 Axes>"
      ]
     },
     "metadata": {},
     "output_type": "display_data"
    },
    {
     "data": {
      "text/plain": [
       "<Figure size 2764.8x777.6 with 0 Axes>"
      ]
     },
     "metadata": {},
     "output_type": "display_data"
    },
    {
     "data": {
      "text/plain": [
       "<Figure size 2764.8x777.6 with 0 Axes>"
      ]
     },
     "metadata": {},
     "output_type": "display_data"
    },
    {
     "data": {
      "text/plain": [
       "<Figure size 2764.8x777.6 with 0 Axes>"
      ]
     },
     "metadata": {},
     "output_type": "display_data"
    },
    {
     "data": {
      "text/plain": [
       "<Figure size 2764.8x777.6 with 0 Axes>"
      ]
     },
     "metadata": {},
     "output_type": "display_data"
    },
    {
     "data": {
      "text/plain": [
       "<Figure size 2764.8x777.6 with 0 Axes>"
      ]
     },
     "metadata": {},
     "output_type": "display_data"
    },
    {
     "data": {
      "text/plain": [
       "<Figure size 2764.8x777.6 with 0 Axes>"
      ]
     },
     "metadata": {},
     "output_type": "display_data"
    },
    {
     "data": {
      "text/plain": [
       "<Figure size 2764.8x777.6 with 0 Axes>"
      ]
     },
     "metadata": {},
     "output_type": "display_data"
    },
    {
     "data": {
      "text/plain": [
       "<Figure size 2764.8x777.6 with 0 Axes>"
      ]
     },
     "metadata": {},
     "output_type": "display_data"
    },
    {
     "data": {
      "text/plain": [
       "<Figure size 2764.8x777.6 with 0 Axes>"
      ]
     },
     "metadata": {},
     "output_type": "display_data"
    },
    {
     "data": {
      "text/plain": [
       "<Figure size 2764.8x777.6 with 0 Axes>"
      ]
     },
     "metadata": {},
     "output_type": "display_data"
    },
    {
     "data": {
      "text/plain": [
       "<Figure size 2764.8x777.6 with 0 Axes>"
      ]
     },
     "metadata": {},
     "output_type": "display_data"
    },
    {
     "data": {
      "text/plain": [
       "<Figure size 2764.8x777.6 with 0 Axes>"
      ]
     },
     "metadata": {},
     "output_type": "display_data"
    },
    {
     "data": {
      "text/plain": [
       "<Figure size 2764.8x777.6 with 0 Axes>"
      ]
     },
     "metadata": {},
     "output_type": "display_data"
    },
    {
     "data": {
      "text/plain": [
       "<Figure size 2764.8x777.6 with 0 Axes>"
      ]
     },
     "metadata": {},
     "output_type": "display_data"
    },
    {
     "data": {
      "text/plain": [
       "<Figure size 2764.8x777.6 with 0 Axes>"
      ]
     },
     "metadata": {},
     "output_type": "display_data"
    },
    {
     "data": {
      "text/plain": [
       "<Figure size 2764.8x777.6 with 0 Axes>"
      ]
     },
     "metadata": {},
     "output_type": "display_data"
    },
    {
     "data": {
      "text/plain": [
       "<Figure size 2764.8x777.6 with 0 Axes>"
      ]
     },
     "metadata": {},
     "output_type": "display_data"
    },
    {
     "data": {
      "text/plain": [
       "<Figure size 2764.8x777.6 with 0 Axes>"
      ]
     },
     "metadata": {},
     "output_type": "display_data"
    },
    {
     "data": {
      "text/plain": [
       "<Figure size 2764.8x777.6 with 0 Axes>"
      ]
     },
     "metadata": {},
     "output_type": "display_data"
    },
    {
     "data": {
      "text/plain": [
       "<Figure size 2764.8x777.6 with 0 Axes>"
      ]
     },
     "metadata": {},
     "output_type": "display_data"
    },
    {
     "data": {
      "text/plain": [
       "<Figure size 2764.8x777.6 with 0 Axes>"
      ]
     },
     "metadata": {},
     "output_type": "display_data"
    },
    {
     "data": {
      "text/plain": [
       "<Figure size 2764.8x777.6 with 0 Axes>"
      ]
     },
     "metadata": {},
     "output_type": "display_data"
    },
    {
     "data": {
      "text/plain": [
       "<Figure size 2764.8x777.6 with 0 Axes>"
      ]
     },
     "metadata": {},
     "output_type": "display_data"
    },
    {
     "data": {
      "text/plain": [
       "<Figure size 2764.8x777.6 with 0 Axes>"
      ]
     },
     "metadata": {},
     "output_type": "display_data"
    },
    {
     "data": {
      "text/plain": [
       "<Figure size 2764.8x777.6 with 0 Axes>"
      ]
     },
     "metadata": {},
     "output_type": "display_data"
    },
    {
     "data": {
      "text/plain": [
       "<Figure size 2764.8x777.6 with 0 Axes>"
      ]
     },
     "metadata": {},
     "output_type": "display_data"
    },
    {
     "data": {
      "text/plain": [
       "<Figure size 2764.8x777.6 with 0 Axes>"
      ]
     },
     "metadata": {},
     "output_type": "display_data"
    },
    {
     "data": {
      "text/plain": [
       "<Figure size 2764.8x777.6 with 0 Axes>"
      ]
     },
     "metadata": {},
     "output_type": "display_data"
    },
    {
     "data": {
      "text/plain": [
       "<Figure size 2764.8x777.6 with 0 Axes>"
      ]
     },
     "metadata": {},
     "output_type": "display_data"
    },
    {
     "data": {
      "text/plain": [
       "<Figure size 2764.8x777.6 with 0 Axes>"
      ]
     },
     "metadata": {},
     "output_type": "display_data"
    },
    {
     "data": {
      "text/plain": [
       "<Figure size 2764.8x777.6 with 0 Axes>"
      ]
     },
     "metadata": {},
     "output_type": "display_data"
    },
    {
     "data": {
      "text/plain": [
       "<Figure size 2764.8x777.6 with 0 Axes>"
      ]
     },
     "metadata": {},
     "output_type": "display_data"
    },
    {
     "data": {
      "text/plain": [
       "<Figure size 2764.8x777.6 with 0 Axes>"
      ]
     },
     "metadata": {},
     "output_type": "display_data"
    },
    {
     "data": {
      "text/plain": [
       "<Figure size 2764.8x777.6 with 0 Axes>"
      ]
     },
     "metadata": {},
     "output_type": "display_data"
    },
    {
     "data": {
      "text/plain": [
       "<Figure size 2764.8x777.6 with 0 Axes>"
      ]
     },
     "metadata": {},
     "output_type": "display_data"
    },
    {
     "data": {
      "text/plain": [
       "<Figure size 2764.8x777.6 with 0 Axes>"
      ]
     },
     "metadata": {},
     "output_type": "display_data"
    },
    {
     "data": {
      "text/plain": [
       "<Figure size 2764.8x777.6 with 0 Axes>"
      ]
     },
     "metadata": {},
     "output_type": "display_data"
    },
    {
     "data": {
      "text/plain": [
       "<Figure size 2764.8x777.6 with 0 Axes>"
      ]
     },
     "metadata": {},
     "output_type": "display_data"
    },
    {
     "data": {
      "text/plain": [
       "<Figure size 2764.8x777.6 with 0 Axes>"
      ]
     },
     "metadata": {},
     "output_type": "display_data"
    },
    {
     "data": {
      "text/plain": [
       "<Figure size 2764.8x777.6 with 0 Axes>"
      ]
     },
     "metadata": {},
     "output_type": "display_data"
    },
    {
     "data": {
      "text/plain": [
       "<Figure size 2764.8x777.6 with 0 Axes>"
      ]
     },
     "metadata": {},
     "output_type": "display_data"
    },
    {
     "data": {
      "text/plain": [
       "<Figure size 2764.8x777.6 with 0 Axes>"
      ]
     },
     "metadata": {},
     "output_type": "display_data"
    },
    {
     "data": {
      "text/plain": [
       "<Figure size 2764.8x777.6 with 0 Axes>"
      ]
     },
     "metadata": {},
     "output_type": "display_data"
    },
    {
     "data": {
      "text/plain": [
       "<Figure size 2764.8x777.6 with 0 Axes>"
      ]
     },
     "metadata": {},
     "output_type": "display_data"
    },
    {
     "data": {
      "text/plain": [
       "<Figure size 2764.8x777.6 with 0 Axes>"
      ]
     },
     "metadata": {},
     "output_type": "display_data"
    },
    {
     "data": {
      "text/plain": [
       "<Figure size 2764.8x777.6 with 0 Axes>"
      ]
     },
     "metadata": {},
     "output_type": "display_data"
    },
    {
     "data": {
      "text/plain": [
       "<Figure size 2764.8x777.6 with 0 Axes>"
      ]
     },
     "metadata": {},
     "output_type": "display_data"
    },
    {
     "data": {
      "text/plain": [
       "<Figure size 2764.8x777.6 with 0 Axes>"
      ]
     },
     "metadata": {},
     "output_type": "display_data"
    },
    {
     "data": {
      "text/plain": [
       "<Figure size 2764.8x777.6 with 0 Axes>"
      ]
     },
     "metadata": {},
     "output_type": "display_data"
    },
    {
     "data": {
      "text/plain": [
       "<Figure size 2764.8x777.6 with 0 Axes>"
      ]
     },
     "metadata": {},
     "output_type": "display_data"
    },
    {
     "data": {
      "text/plain": [
       "<Figure size 2764.8x777.6 with 0 Axes>"
      ]
     },
     "metadata": {},
     "output_type": "display_data"
    },
    {
     "data": {
      "text/plain": [
       "<Figure size 2764.8x777.6 with 0 Axes>"
      ]
     },
     "metadata": {},
     "output_type": "display_data"
    },
    {
     "data": {
      "text/plain": [
       "<Figure size 2764.8x777.6 with 0 Axes>"
      ]
     },
     "metadata": {},
     "output_type": "display_data"
    },
    {
     "data": {
      "text/plain": [
       "<Figure size 2764.8x777.6 with 0 Axes>"
      ]
     },
     "metadata": {},
     "output_type": "display_data"
    },
    {
     "data": {
      "text/plain": [
       "<Figure size 2764.8x777.6 with 0 Axes>"
      ]
     },
     "metadata": {},
     "output_type": "display_data"
    },
    {
     "data": {
      "text/plain": [
       "<Figure size 2764.8x777.6 with 0 Axes>"
      ]
     },
     "metadata": {},
     "output_type": "display_data"
    },
    {
     "data": {
      "text/plain": [
       "<Figure size 2764.8x777.6 with 0 Axes>"
      ]
     },
     "metadata": {},
     "output_type": "display_data"
    },
    {
     "data": {
      "text/plain": [
       "<Figure size 2764.8x777.6 with 0 Axes>"
      ]
     },
     "metadata": {},
     "output_type": "display_data"
    },
    {
     "data": {
      "text/plain": [
       "<Figure size 2764.8x777.6 with 0 Axes>"
      ]
     },
     "metadata": {},
     "output_type": "display_data"
    },
    {
     "data": {
      "text/plain": [
       "<Figure size 2764.8x777.6 with 0 Axes>"
      ]
     },
     "metadata": {},
     "output_type": "display_data"
    },
    {
     "data": {
      "text/plain": [
       "<Figure size 2764.8x777.6 with 0 Axes>"
      ]
     },
     "metadata": {},
     "output_type": "display_data"
    },
    {
     "data": {
      "text/plain": [
       "<Figure size 2764.8x777.6 with 0 Axes>"
      ]
     },
     "metadata": {},
     "output_type": "display_data"
    },
    {
     "data": {
      "text/plain": [
       "<Figure size 2764.8x777.6 with 0 Axes>"
      ]
     },
     "metadata": {},
     "output_type": "display_data"
    },
    {
     "data": {
      "text/plain": [
       "<Figure size 2764.8x777.6 with 0 Axes>"
      ]
     },
     "metadata": {},
     "output_type": "display_data"
    },
    {
     "data": {
      "text/plain": [
       "<Figure size 2764.8x777.6 with 0 Axes>"
      ]
     },
     "metadata": {},
     "output_type": "display_data"
    },
    {
     "data": {
      "text/plain": [
       "<Figure size 2764.8x777.6 with 0 Axes>"
      ]
     },
     "metadata": {},
     "output_type": "display_data"
    },
    {
     "data": {
      "text/plain": [
       "<Figure size 2764.8x777.6 with 0 Axes>"
      ]
     },
     "metadata": {},
     "output_type": "display_data"
    },
    {
     "data": {
      "text/plain": [
       "<Figure size 2764.8x777.6 with 0 Axes>"
      ]
     },
     "metadata": {},
     "output_type": "display_data"
    },
    {
     "data": {
      "text/plain": [
       "<Figure size 2764.8x777.6 with 0 Axes>"
      ]
     },
     "metadata": {},
     "output_type": "display_data"
    },
    {
     "data": {
      "text/plain": [
       "<Figure size 2764.8x777.6 with 0 Axes>"
      ]
     },
     "metadata": {},
     "output_type": "display_data"
    },
    {
     "data": {
      "text/plain": [
       "<Figure size 2764.8x777.6 with 0 Axes>"
      ]
     },
     "metadata": {},
     "output_type": "display_data"
    },
    {
     "data": {
      "text/plain": [
       "<Figure size 2764.8x777.6 with 0 Axes>"
      ]
     },
     "metadata": {},
     "output_type": "display_data"
    },
    {
     "data": {
      "text/plain": [
       "<Figure size 2764.8x777.6 with 0 Axes>"
      ]
     },
     "metadata": {},
     "output_type": "display_data"
    },
    {
     "data": {
      "text/plain": [
       "<Figure size 2764.8x777.6 with 0 Axes>"
      ]
     },
     "metadata": {},
     "output_type": "display_data"
    },
    {
     "data": {
      "text/plain": [
       "<Figure size 2764.8x777.6 with 0 Axes>"
      ]
     },
     "metadata": {},
     "output_type": "display_data"
    },
    {
     "data": {
      "text/plain": [
       "<Figure size 2764.8x777.6 with 0 Axes>"
      ]
     },
     "metadata": {},
     "output_type": "display_data"
    },
    {
     "data": {
      "text/plain": [
       "<Figure size 2764.8x777.6 with 0 Axes>"
      ]
     },
     "metadata": {},
     "output_type": "display_data"
    },
    {
     "data": {
      "text/plain": [
       "<Figure size 2764.8x777.6 with 0 Axes>"
      ]
     },
     "metadata": {},
     "output_type": "display_data"
    },
    {
     "data": {
      "text/plain": [
       "<Figure size 2764.8x777.6 with 0 Axes>"
      ]
     },
     "metadata": {},
     "output_type": "display_data"
    },
    {
     "data": {
      "text/plain": [
       "<Figure size 2764.8x777.6 with 0 Axes>"
      ]
     },
     "metadata": {},
     "output_type": "display_data"
    },
    {
     "data": {
      "text/plain": [
       "<Figure size 2764.8x777.6 with 0 Axes>"
      ]
     },
     "metadata": {},
     "output_type": "display_data"
    },
    {
     "data": {
      "text/plain": [
       "<Figure size 2764.8x777.6 with 0 Axes>"
      ]
     },
     "metadata": {},
     "output_type": "display_data"
    },
    {
     "data": {
      "text/plain": [
       "<Figure size 2764.8x777.6 with 0 Axes>"
      ]
     },
     "metadata": {},
     "output_type": "display_data"
    },
    {
     "data": {
      "text/plain": [
       "<Figure size 2764.8x777.6 with 0 Axes>"
      ]
     },
     "metadata": {},
     "output_type": "display_data"
    },
    {
     "data": {
      "text/plain": [
       "<Figure size 2764.8x777.6 with 0 Axes>"
      ]
     },
     "metadata": {},
     "output_type": "display_data"
    },
    {
     "data": {
      "text/plain": [
       "<Figure size 2764.8x777.6 with 0 Axes>"
      ]
     },
     "metadata": {},
     "output_type": "display_data"
    },
    {
     "data": {
      "text/plain": [
       "<Figure size 2764.8x777.6 with 0 Axes>"
      ]
     },
     "metadata": {},
     "output_type": "display_data"
    },
    {
     "data": {
      "text/plain": [
       "<Figure size 2764.8x777.6 with 0 Axes>"
      ]
     },
     "metadata": {},
     "output_type": "display_data"
    },
    {
     "data": {
      "text/plain": [
       "<Figure size 2764.8x777.6 with 0 Axes>"
      ]
     },
     "metadata": {},
     "output_type": "display_data"
    },
    {
     "data": {
      "text/plain": [
       "<Figure size 2764.8x777.6 with 0 Axes>"
      ]
     },
     "metadata": {},
     "output_type": "display_data"
    },
    {
     "data": {
      "text/plain": [
       "<Figure size 2764.8x777.6 with 0 Axes>"
      ]
     },
     "metadata": {},
     "output_type": "display_data"
    },
    {
     "data": {
      "text/plain": [
       "<Figure size 2764.8x777.6 with 0 Axes>"
      ]
     },
     "metadata": {},
     "output_type": "display_data"
    },
    {
     "data": {
      "text/plain": [
       "<Figure size 2764.8x777.6 with 0 Axes>"
      ]
     },
     "metadata": {},
     "output_type": "display_data"
    },
    {
     "data": {
      "text/plain": [
       "<Figure size 2764.8x777.6 with 0 Axes>"
      ]
     },
     "metadata": {},
     "output_type": "display_data"
    },
    {
     "data": {
      "text/plain": [
       "<Figure size 2764.8x777.6 with 0 Axes>"
      ]
     },
     "metadata": {},
     "output_type": "display_data"
    },
    {
     "data": {
      "text/plain": [
       "<Figure size 2764.8x777.6 with 0 Axes>"
      ]
     },
     "metadata": {},
     "output_type": "display_data"
    },
    {
     "data": {
      "text/plain": [
       "<Figure size 2764.8x777.6 with 0 Axes>"
      ]
     },
     "metadata": {},
     "output_type": "display_data"
    },
    {
     "data": {
      "text/plain": [
       "<Figure size 2764.8x777.6 with 0 Axes>"
      ]
     },
     "metadata": {},
     "output_type": "display_data"
    },
    {
     "data": {
      "text/plain": [
       "<Figure size 2764.8x777.6 with 0 Axes>"
      ]
     },
     "metadata": {},
     "output_type": "display_data"
    },
    {
     "data": {
      "text/plain": [
       "<Figure size 2764.8x777.6 with 0 Axes>"
      ]
     },
     "metadata": {},
     "output_type": "display_data"
    },
    {
     "data": {
      "text/plain": [
       "<Figure size 2764.8x777.6 with 0 Axes>"
      ]
     },
     "metadata": {},
     "output_type": "display_data"
    },
    {
     "data": {
      "text/plain": [
       "<Figure size 2764.8x777.6 with 0 Axes>"
      ]
     },
     "metadata": {},
     "output_type": "display_data"
    },
    {
     "data": {
      "text/plain": [
       "<Figure size 2764.8x777.6 with 0 Axes>"
      ]
     },
     "metadata": {},
     "output_type": "display_data"
    },
    {
     "data": {
      "text/plain": [
       "<Figure size 2764.8x777.6 with 0 Axes>"
      ]
     },
     "metadata": {},
     "output_type": "display_data"
    },
    {
     "data": {
      "text/plain": [
       "<Figure size 2764.8x777.6 with 0 Axes>"
      ]
     },
     "metadata": {},
     "output_type": "display_data"
    },
    {
     "data": {
      "text/plain": [
       "<Figure size 2764.8x777.6 with 0 Axes>"
      ]
     },
     "metadata": {},
     "output_type": "display_data"
    },
    {
     "data": {
      "text/plain": [
       "<Figure size 2764.8x777.6 with 0 Axes>"
      ]
     },
     "metadata": {},
     "output_type": "display_data"
    },
    {
     "data": {
      "text/plain": [
       "<Figure size 2764.8x777.6 with 0 Axes>"
      ]
     },
     "metadata": {},
     "output_type": "display_data"
    },
    {
     "data": {
      "text/plain": [
       "<Figure size 2764.8x777.6 with 0 Axes>"
      ]
     },
     "metadata": {},
     "output_type": "display_data"
    },
    {
     "data": {
      "text/plain": [
       "<Figure size 2764.8x777.6 with 0 Axes>"
      ]
     },
     "metadata": {},
     "output_type": "display_data"
    },
    {
     "data": {
      "text/plain": [
       "<Figure size 2764.8x777.6 with 0 Axes>"
      ]
     },
     "metadata": {},
     "output_type": "display_data"
    },
    {
     "data": {
      "text/plain": [
       "<Figure size 2764.8x777.6 with 0 Axes>"
      ]
     },
     "metadata": {},
     "output_type": "display_data"
    },
    {
     "data": {
      "text/plain": [
       "<Figure size 2764.8x777.6 with 0 Axes>"
      ]
     },
     "metadata": {},
     "output_type": "display_data"
    },
    {
     "data": {
      "text/plain": [
       "<Figure size 2764.8x777.6 with 0 Axes>"
      ]
     },
     "metadata": {},
     "output_type": "display_data"
    },
    {
     "data": {
      "text/plain": [
       "<Figure size 2764.8x777.6 with 0 Axes>"
      ]
     },
     "metadata": {},
     "output_type": "display_data"
    },
    {
     "data": {
      "text/plain": [
       "<Figure size 2764.8x777.6 with 0 Axes>"
      ]
     },
     "metadata": {},
     "output_type": "display_data"
    },
    {
     "data": {
      "text/plain": [
       "<Figure size 2764.8x777.6 with 0 Axes>"
      ]
     },
     "metadata": {},
     "output_type": "display_data"
    },
    {
     "data": {
      "text/plain": [
       "<Figure size 2764.8x777.6 with 0 Axes>"
      ]
     },
     "metadata": {},
     "output_type": "display_data"
    },
    {
     "data": {
      "text/plain": [
       "<Figure size 2764.8x777.6 with 0 Axes>"
      ]
     },
     "metadata": {},
     "output_type": "display_data"
    },
    {
     "data": {
      "text/plain": [
       "<Figure size 2764.8x777.6 with 0 Axes>"
      ]
     },
     "metadata": {},
     "output_type": "display_data"
    },
    {
     "data": {
      "text/plain": [
       "<Figure size 2764.8x777.6 with 0 Axes>"
      ]
     },
     "metadata": {},
     "output_type": "display_data"
    },
    {
     "data": {
      "text/plain": [
       "<Figure size 2764.8x777.6 with 0 Axes>"
      ]
     },
     "metadata": {},
     "output_type": "display_data"
    },
    {
     "data": {
      "text/plain": [
       "<Figure size 2764.8x777.6 with 0 Axes>"
      ]
     },
     "metadata": {},
     "output_type": "display_data"
    },
    {
     "data": {
      "text/plain": [
       "<Figure size 2764.8x777.6 with 0 Axes>"
      ]
     },
     "metadata": {},
     "output_type": "display_data"
    },
    {
     "data": {
      "text/plain": [
       "<Figure size 2764.8x777.6 with 0 Axes>"
      ]
     },
     "metadata": {},
     "output_type": "display_data"
    },
    {
     "data": {
      "text/plain": [
       "<Figure size 2764.8x777.6 with 0 Axes>"
      ]
     },
     "metadata": {},
     "output_type": "display_data"
    },
    {
     "data": {
      "text/plain": [
       "<Figure size 2764.8x777.6 with 0 Axes>"
      ]
     },
     "metadata": {},
     "output_type": "display_data"
    },
    {
     "data": {
      "text/plain": [
       "<Figure size 2764.8x777.6 with 0 Axes>"
      ]
     },
     "metadata": {},
     "output_type": "display_data"
    },
    {
     "data": {
      "text/plain": [
       "<Figure size 2764.8x777.6 with 0 Axes>"
      ]
     },
     "metadata": {},
     "output_type": "display_data"
    },
    {
     "data": {
      "text/plain": [
       "<Figure size 2764.8x777.6 with 0 Axes>"
      ]
     },
     "metadata": {},
     "output_type": "display_data"
    },
    {
     "data": {
      "text/plain": [
       "<Figure size 2764.8x777.6 with 0 Axes>"
      ]
     },
     "metadata": {},
     "output_type": "display_data"
    },
    {
     "data": {
      "text/plain": [
       "<Figure size 2764.8x777.6 with 0 Axes>"
      ]
     },
     "metadata": {},
     "output_type": "display_data"
    },
    {
     "data": {
      "text/plain": [
       "<Figure size 2764.8x777.6 with 0 Axes>"
      ]
     },
     "metadata": {},
     "output_type": "display_data"
    },
    {
     "data": {
      "text/plain": [
       "<Figure size 2764.8x777.6 with 0 Axes>"
      ]
     },
     "metadata": {},
     "output_type": "display_data"
    },
    {
     "data": {
      "text/plain": [
       "<Figure size 2764.8x777.6 with 0 Axes>"
      ]
     },
     "metadata": {},
     "output_type": "display_data"
    },
    {
     "data": {
      "text/plain": [
       "<Figure size 2764.8x777.6 with 0 Axes>"
      ]
     },
     "metadata": {},
     "output_type": "display_data"
    },
    {
     "data": {
      "text/plain": [
       "<Figure size 2764.8x777.6 with 0 Axes>"
      ]
     },
     "metadata": {},
     "output_type": "display_data"
    },
    {
     "data": {
      "text/plain": [
       "<Figure size 2764.8x777.6 with 0 Axes>"
      ]
     },
     "metadata": {},
     "output_type": "display_data"
    },
    {
     "data": {
      "text/plain": [
       "<Figure size 2764.8x777.6 with 0 Axes>"
      ]
     },
     "metadata": {},
     "output_type": "display_data"
    },
    {
     "data": {
      "text/plain": [
       "<Figure size 2764.8x777.6 with 0 Axes>"
      ]
     },
     "metadata": {},
     "output_type": "display_data"
    },
    {
     "data": {
      "text/plain": [
       "<Figure size 2764.8x777.6 with 0 Axes>"
      ]
     },
     "metadata": {},
     "output_type": "display_data"
    },
    {
     "data": {
      "text/plain": [
       "<Figure size 2764.8x777.6 with 0 Axes>"
      ]
     },
     "metadata": {},
     "output_type": "display_data"
    },
    {
     "data": {
      "text/plain": [
       "<Figure size 2764.8x777.6 with 0 Axes>"
      ]
     },
     "metadata": {},
     "output_type": "display_data"
    },
    {
     "data": {
      "text/plain": [
       "<Figure size 2764.8x777.6 with 0 Axes>"
      ]
     },
     "metadata": {},
     "output_type": "display_data"
    },
    {
     "data": {
      "text/plain": [
       "<Figure size 2764.8x777.6 with 0 Axes>"
      ]
     },
     "metadata": {},
     "output_type": "display_data"
    },
    {
     "data": {
      "text/plain": [
       "<Figure size 2764.8x777.6 with 0 Axes>"
      ]
     },
     "metadata": {},
     "output_type": "display_data"
    },
    {
     "data": {
      "text/plain": [
       "<Figure size 2764.8x777.6 with 0 Axes>"
      ]
     },
     "metadata": {},
     "output_type": "display_data"
    },
    {
     "data": {
      "text/plain": [
       "<Figure size 2764.8x777.6 with 0 Axes>"
      ]
     },
     "metadata": {},
     "output_type": "display_data"
    },
    {
     "data": {
      "text/plain": [
       "<Figure size 2764.8x777.6 with 0 Axes>"
      ]
     },
     "metadata": {},
     "output_type": "display_data"
    },
    {
     "data": {
      "text/plain": [
       "<Figure size 2764.8x777.6 with 0 Axes>"
      ]
     },
     "metadata": {},
     "output_type": "display_data"
    },
    {
     "data": {
      "text/plain": [
       "<Figure size 2764.8x777.6 with 0 Axes>"
      ]
     },
     "metadata": {},
     "output_type": "display_data"
    },
    {
     "data": {
      "text/plain": [
       "<Figure size 2764.8x777.6 with 0 Axes>"
      ]
     },
     "metadata": {},
     "output_type": "display_data"
    },
    {
     "data": {
      "text/plain": [
       "<Figure size 2764.8x777.6 with 0 Axes>"
      ]
     },
     "metadata": {},
     "output_type": "display_data"
    },
    {
     "data": {
      "text/plain": [
       "<Figure size 2764.8x777.6 with 0 Axes>"
      ]
     },
     "metadata": {},
     "output_type": "display_data"
    },
    {
     "data": {
      "text/plain": [
       "<Figure size 2764.8x777.6 with 0 Axes>"
      ]
     },
     "metadata": {},
     "output_type": "display_data"
    },
    {
     "data": {
      "text/plain": [
       "<Figure size 2764.8x777.6 with 0 Axes>"
      ]
     },
     "metadata": {},
     "output_type": "display_data"
    },
    {
     "data": {
      "text/plain": [
       "<Figure size 2764.8x777.6 with 0 Axes>"
      ]
     },
     "metadata": {},
     "output_type": "display_data"
    },
    {
     "data": {
      "text/plain": [
       "<Figure size 2764.8x777.6 with 0 Axes>"
      ]
     },
     "metadata": {},
     "output_type": "display_data"
    },
    {
     "data": {
      "text/plain": [
       "<Figure size 2764.8x777.6 with 0 Axes>"
      ]
     },
     "metadata": {},
     "output_type": "display_data"
    },
    {
     "data": {
      "text/plain": [
       "<Figure size 2764.8x777.6 with 0 Axes>"
      ]
     },
     "metadata": {},
     "output_type": "display_data"
    },
    {
     "data": {
      "text/plain": [
       "<Figure size 2764.8x777.6 with 0 Axes>"
      ]
     },
     "metadata": {},
     "output_type": "display_data"
    },
    {
     "data": {
      "text/plain": [
       "<Figure size 2764.8x777.6 with 0 Axes>"
      ]
     },
     "metadata": {},
     "output_type": "display_data"
    },
    {
     "data": {
      "text/plain": [
       "<Figure size 2764.8x777.6 with 0 Axes>"
      ]
     },
     "metadata": {},
     "output_type": "display_data"
    },
    {
     "data": {
      "text/plain": [
       "<Figure size 2764.8x777.6 with 0 Axes>"
      ]
     },
     "metadata": {},
     "output_type": "display_data"
    },
    {
     "data": {
      "text/plain": [
       "<Figure size 2764.8x777.6 with 0 Axes>"
      ]
     },
     "metadata": {},
     "output_type": "display_data"
    },
    {
     "data": {
      "text/plain": [
       "<Figure size 2764.8x777.6 with 0 Axes>"
      ]
     },
     "metadata": {},
     "output_type": "display_data"
    },
    {
     "data": {
      "text/plain": [
       "<Figure size 2764.8x777.6 with 0 Axes>"
      ]
     },
     "metadata": {},
     "output_type": "display_data"
    },
    {
     "data": {
      "text/plain": [
       "<Figure size 2764.8x777.6 with 0 Axes>"
      ]
     },
     "metadata": {},
     "output_type": "display_data"
    },
    {
     "data": {
      "text/plain": [
       "<Figure size 2764.8x777.6 with 0 Axes>"
      ]
     },
     "metadata": {},
     "output_type": "display_data"
    },
    {
     "data": {
      "text/plain": [
       "<Figure size 2764.8x777.6 with 0 Axes>"
      ]
     },
     "metadata": {},
     "output_type": "display_data"
    },
    {
     "data": {
      "text/plain": [
       "<Figure size 2764.8x777.6 with 0 Axes>"
      ]
     },
     "metadata": {},
     "output_type": "display_data"
    },
    {
     "data": {
      "text/plain": [
       "<Figure size 2764.8x777.6 with 0 Axes>"
      ]
     },
     "metadata": {},
     "output_type": "display_data"
    },
    {
     "data": {
      "text/plain": [
       "<Figure size 2764.8x777.6 with 0 Axes>"
      ]
     },
     "metadata": {},
     "output_type": "display_data"
    },
    {
     "data": {
      "text/plain": [
       "<Figure size 2764.8x777.6 with 0 Axes>"
      ]
     },
     "metadata": {},
     "output_type": "display_data"
    },
    {
     "data": {
      "text/plain": [
       "<Figure size 2764.8x777.6 with 0 Axes>"
      ]
     },
     "metadata": {},
     "output_type": "display_data"
    },
    {
     "data": {
      "text/plain": [
       "<Figure size 2764.8x777.6 with 0 Axes>"
      ]
     },
     "metadata": {},
     "output_type": "display_data"
    },
    {
     "data": {
      "text/plain": [
       "<Figure size 2764.8x777.6 with 0 Axes>"
      ]
     },
     "metadata": {},
     "output_type": "display_data"
    },
    {
     "data": {
      "text/plain": [
       "<Figure size 2764.8x777.6 with 0 Axes>"
      ]
     },
     "metadata": {},
     "output_type": "display_data"
    },
    {
     "data": {
      "text/plain": [
       "<Figure size 2764.8x777.6 with 0 Axes>"
      ]
     },
     "metadata": {},
     "output_type": "display_data"
    },
    {
     "data": {
      "text/plain": [
       "<Figure size 2764.8x777.6 with 0 Axes>"
      ]
     },
     "metadata": {},
     "output_type": "display_data"
    },
    {
     "data": {
      "text/plain": [
       "<Figure size 2764.8x777.6 with 0 Axes>"
      ]
     },
     "metadata": {},
     "output_type": "display_data"
    },
    {
     "data": {
      "text/plain": [
       "<Figure size 2764.8x777.6 with 0 Axes>"
      ]
     },
     "metadata": {},
     "output_type": "display_data"
    },
    {
     "data": {
      "text/plain": [
       "<Figure size 2764.8x777.6 with 0 Axes>"
      ]
     },
     "metadata": {},
     "output_type": "display_data"
    },
    {
     "data": {
      "text/plain": [
       "<Figure size 2764.8x777.6 with 0 Axes>"
      ]
     },
     "metadata": {},
     "output_type": "display_data"
    },
    {
     "data": {
      "text/plain": [
       "<Figure size 2764.8x777.6 with 0 Axes>"
      ]
     },
     "metadata": {},
     "output_type": "display_data"
    },
    {
     "data": {
      "text/plain": [
       "<Figure size 2764.8x777.6 with 0 Axes>"
      ]
     },
     "metadata": {},
     "output_type": "display_data"
    },
    {
     "data": {
      "text/plain": [
       "<Figure size 2764.8x777.6 with 0 Axes>"
      ]
     },
     "metadata": {},
     "output_type": "display_data"
    },
    {
     "data": {
      "text/plain": [
       "<Figure size 2764.8x777.6 with 0 Axes>"
      ]
     },
     "metadata": {},
     "output_type": "display_data"
    },
    {
     "data": {
      "text/plain": [
       "<Figure size 2764.8x777.6 with 0 Axes>"
      ]
     },
     "metadata": {},
     "output_type": "display_data"
    },
    {
     "data": {
      "text/plain": [
       "<Figure size 2764.8x777.6 with 0 Axes>"
      ]
     },
     "metadata": {},
     "output_type": "display_data"
    },
    {
     "data": {
      "text/plain": [
       "<Figure size 2764.8x777.6 with 0 Axes>"
      ]
     },
     "metadata": {},
     "output_type": "display_data"
    },
    {
     "data": {
      "text/plain": [
       "<Figure size 2764.8x777.6 with 0 Axes>"
      ]
     },
     "metadata": {},
     "output_type": "display_data"
    },
    {
     "data": {
      "text/plain": [
       "<Figure size 2764.8x777.6 with 0 Axes>"
      ]
     },
     "metadata": {},
     "output_type": "display_data"
    },
    {
     "data": {
      "text/plain": [
       "<Figure size 2764.8x777.6 with 0 Axes>"
      ]
     },
     "metadata": {},
     "output_type": "display_data"
    },
    {
     "data": {
      "text/plain": [
       "<Figure size 2764.8x777.6 with 0 Axes>"
      ]
     },
     "metadata": {},
     "output_type": "display_data"
    },
    {
     "data": {
      "text/plain": [
       "<Figure size 2764.8x777.6 with 0 Axes>"
      ]
     },
     "metadata": {},
     "output_type": "display_data"
    },
    {
     "data": {
      "text/plain": [
       "<Figure size 2764.8x777.6 with 0 Axes>"
      ]
     },
     "metadata": {},
     "output_type": "display_data"
    },
    {
     "data": {
      "text/plain": [
       "<Figure size 2764.8x777.6 with 0 Axes>"
      ]
     },
     "metadata": {},
     "output_type": "display_data"
    },
    {
     "data": {
      "text/plain": [
       "<Figure size 2764.8x777.6 with 0 Axes>"
      ]
     },
     "metadata": {},
     "output_type": "display_data"
    },
    {
     "data": {
      "text/plain": [
       "<Figure size 2764.8x777.6 with 0 Axes>"
      ]
     },
     "metadata": {},
     "output_type": "display_data"
    },
    {
     "data": {
      "text/plain": [
       "<Figure size 2764.8x777.6 with 0 Axes>"
      ]
     },
     "metadata": {},
     "output_type": "display_data"
    },
    {
     "data": {
      "text/plain": [
       "<Figure size 2764.8x777.6 with 0 Axes>"
      ]
     },
     "metadata": {},
     "output_type": "display_data"
    },
    {
     "data": {
      "text/plain": [
       "<Figure size 2764.8x777.6 with 0 Axes>"
      ]
     },
     "metadata": {},
     "output_type": "display_data"
    },
    {
     "data": {
      "text/plain": [
       "<Figure size 2764.8x777.6 with 0 Axes>"
      ]
     },
     "metadata": {},
     "output_type": "display_data"
    },
    {
     "data": {
      "text/plain": [
       "<Figure size 2764.8x777.6 with 0 Axes>"
      ]
     },
     "metadata": {},
     "output_type": "display_data"
    },
    {
     "data": {
      "text/plain": [
       "<Figure size 2764.8x777.6 with 0 Axes>"
      ]
     },
     "metadata": {},
     "output_type": "display_data"
    },
    {
     "data": {
      "text/plain": [
       "<Figure size 2764.8x777.6 with 0 Axes>"
      ]
     },
     "metadata": {},
     "output_type": "display_data"
    },
    {
     "data": {
      "text/plain": [
       "<Figure size 2764.8x777.6 with 0 Axes>"
      ]
     },
     "metadata": {},
     "output_type": "display_data"
    },
    {
     "data": {
      "text/plain": [
       "<Figure size 2764.8x777.6 with 0 Axes>"
      ]
     },
     "metadata": {},
     "output_type": "display_data"
    },
    {
     "data": {
      "text/plain": [
       "<Figure size 2764.8x777.6 with 0 Axes>"
      ]
     },
     "metadata": {},
     "output_type": "display_data"
    },
    {
     "data": {
      "text/plain": [
       "<Figure size 2764.8x777.6 with 0 Axes>"
      ]
     },
     "metadata": {},
     "output_type": "display_data"
    },
    {
     "data": {
      "text/plain": [
       "<Figure size 2764.8x777.6 with 0 Axes>"
      ]
     },
     "metadata": {},
     "output_type": "display_data"
    },
    {
     "data": {
      "text/plain": [
       "<Figure size 2764.8x777.6 with 0 Axes>"
      ]
     },
     "metadata": {},
     "output_type": "display_data"
    },
    {
     "data": {
      "text/plain": [
       "<Figure size 2764.8x777.6 with 0 Axes>"
      ]
     },
     "metadata": {},
     "output_type": "display_data"
    },
    {
     "data": {
      "text/plain": [
       "<Figure size 2764.8x777.6 with 0 Axes>"
      ]
     },
     "metadata": {},
     "output_type": "display_data"
    },
    {
     "data": {
      "text/plain": [
       "<Figure size 2764.8x777.6 with 0 Axes>"
      ]
     },
     "metadata": {},
     "output_type": "display_data"
    },
    {
     "data": {
      "text/plain": [
       "<Figure size 2764.8x777.6 with 0 Axes>"
      ]
     },
     "metadata": {},
     "output_type": "display_data"
    },
    {
     "data": {
      "text/plain": [
       "<Figure size 2764.8x777.6 with 0 Axes>"
      ]
     },
     "metadata": {},
     "output_type": "display_data"
    },
    {
     "data": {
      "text/plain": [
       "<Figure size 2764.8x777.6 with 0 Axes>"
      ]
     },
     "metadata": {},
     "output_type": "display_data"
    },
    {
     "data": {
      "text/plain": [
       "<Figure size 2764.8x777.6 with 0 Axes>"
      ]
     },
     "metadata": {},
     "output_type": "display_data"
    },
    {
     "data": {
      "text/plain": [
       "<Figure size 2764.8x777.6 with 0 Axes>"
      ]
     },
     "metadata": {},
     "output_type": "display_data"
    },
    {
     "data": {
      "text/plain": [
       "<Figure size 2764.8x777.6 with 0 Axes>"
      ]
     },
     "metadata": {},
     "output_type": "display_data"
    },
    {
     "data": {
      "text/plain": [
       "<Figure size 2764.8x777.6 with 0 Axes>"
      ]
     },
     "metadata": {},
     "output_type": "display_data"
    },
    {
     "data": {
      "text/plain": [
       "<Figure size 2764.8x777.6 with 0 Axes>"
      ]
     },
     "metadata": {},
     "output_type": "display_data"
    },
    {
     "data": {
      "text/plain": [
       "<Figure size 2764.8x777.6 with 0 Axes>"
      ]
     },
     "metadata": {},
     "output_type": "display_data"
    },
    {
     "data": {
      "text/plain": [
       "<Figure size 2764.8x777.6 with 0 Axes>"
      ]
     },
     "metadata": {},
     "output_type": "display_data"
    },
    {
     "data": {
      "text/plain": [
       "<Figure size 2764.8x777.6 with 0 Axes>"
      ]
     },
     "metadata": {},
     "output_type": "display_data"
    },
    {
     "data": {
      "text/plain": [
       "<Figure size 2764.8x777.6 with 0 Axes>"
      ]
     },
     "metadata": {},
     "output_type": "display_data"
    },
    {
     "data": {
      "text/plain": [
       "<Figure size 2764.8x777.6 with 0 Axes>"
      ]
     },
     "metadata": {},
     "output_type": "display_data"
    },
    {
     "data": {
      "text/plain": [
       "<Figure size 2764.8x777.6 with 0 Axes>"
      ]
     },
     "metadata": {},
     "output_type": "display_data"
    },
    {
     "data": {
      "text/plain": [
       "<Figure size 2764.8x777.6 with 0 Axes>"
      ]
     },
     "metadata": {},
     "output_type": "display_data"
    },
    {
     "data": {
      "text/plain": [
       "<Figure size 2764.8x777.6 with 0 Axes>"
      ]
     },
     "metadata": {},
     "output_type": "display_data"
    }
   ],
   "source": [
    "# Modules nécessaires\n",
    "import cv2\n",
    "import matplotlib.pyplot as plt\n",
    "\n",
    "print('Récupération de la vidéo frame par frame')\n",
    "# Récupérer la vidéo frame par frame\n",
    "vidcap = cv2.VideoCapture('video_test.mp4')\n",
    "fps = vidcap.get(cv2.CAP_PROP_FPS) # getting video framerate\n",
    "success,image = vidcap.read()\n",
    "count = 0\n",
    "success = True\n",
    "while success:\n",
    "    cv2.imwrite(\"video_test_frames/frame%d.jpg\" % count, image,[int(cv2.IMWRITE_JPEG_QUALITY), 90])     # save frame as JPEG file\n",
    "    success,image = vidcap.read()\n",
    "    #print ('Read a new frame: ', success)\n",
    "    count += 1\n",
    "    \n",
    "print('Tracé animation frame par frame')\n",
    "# Tracer frame par frame de l'animation\n",
    "for k in range(count):\n",
    "    img = cv2.imread('video_test_frames/frame%d.jpg' % k)\n",
    "    \n",
    "    height, width, channels = img.shape\n",
    "    fig, (ax1,ax2) = plt.subplots(1,2,figsize=(width/100*2,height/100)) # rajouter autant d'axes que souhaité et ajuster figsize\n",
    "    \n",
    "    # video brute sur l'axe 1\n",
    "    im1=ax1.imshow(img)\n",
    "    ax1.axis('off')\n",
    "    \n",
    "    # evolution des coordonnées du poignet sur l'axe 2\n",
    "    op_data_without_c.iloc[:k+1,:].plot(y=['RWrist'],ax=ax2,xlim=(0,count),ylim=(0,1000))\n",
    "    ax2.legend(fontsize=20)\n",
    "    ax2.tick_params(axis='both', labelsize=22)\n",
    "\n",
    "    plt.savefig('animation_frames/frame%d.jpg' % k)\n",
    "    plt.clf()\n",
    "    \n",
    "print('écriture de la vidéo')\n",
    "# création vidéo à partir des frames précédentes\n",
    "\n",
    "## taille des images\n",
    "img=cv2.imread('animation_frames/frame1.jpg')\n",
    "height, width, channels = img.shape\n",
    "\n",
    "fourcc = cv2.VideoWriter_fourcc(*'MJPG')\n",
    "video = cv2.VideoWriter('videos/test_animation.avi', fourcc, float(fps), (width, height))\n",
    "\n",
    "for i in range(count):\n",
    "    frame = cv2.imread('animation_frames/frame%d.jpg' % i)\n",
    "    video.write(frame)\n",
    "video.release()\n",
    "\n",
    "\n",
    "\n"
   ]
  },
  {
   "cell_type": "markdown",
   "metadata": {},
   "source": [
    "## En utilisant le module animation de matplotlib pour afficher directement dans notebook\n",
    "Il faut pour cela avoir télécharger ffmpeg et renseginer le path de ffmpeg à la 2eme ligne "
   ]
  },
  {
   "cell_type": "code",
   "execution_count": 46,
   "metadata": {},
   "outputs": [
    {
     "data": {
      "application/javascript": [
       "/* Put everything inside the global mpl namespace */\n",
       "window.mpl = {};\n",
       "\n",
       "\n",
       "mpl.get_websocket_type = function() {\n",
       "    if (typeof(WebSocket) !== 'undefined') {\n",
       "        return WebSocket;\n",
       "    } else if (typeof(MozWebSocket) !== 'undefined') {\n",
       "        return MozWebSocket;\n",
       "    } else {\n",
       "        alert('Your browser does not have WebSocket support.' +\n",
       "              'Please try Chrome, Safari or Firefox ≥ 6. ' +\n",
       "              'Firefox 4 and 5 are also supported but you ' +\n",
       "              'have to enable WebSockets in about:config.');\n",
       "    };\n",
       "}\n",
       "\n",
       "mpl.figure = function(figure_id, websocket, ondownload, parent_element) {\n",
       "    this.id = figure_id;\n",
       "\n",
       "    this.ws = websocket;\n",
       "\n",
       "    this.supports_binary = (this.ws.binaryType != undefined);\n",
       "\n",
       "    if (!this.supports_binary) {\n",
       "        var warnings = document.getElementById(\"mpl-warnings\");\n",
       "        if (warnings) {\n",
       "            warnings.style.display = 'block';\n",
       "            warnings.textContent = (\n",
       "                \"This browser does not support binary websocket messages. \" +\n",
       "                    \"Performance may be slow.\");\n",
       "        }\n",
       "    }\n",
       "\n",
       "    this.imageObj = new Image();\n",
       "\n",
       "    this.context = undefined;\n",
       "    this.message = undefined;\n",
       "    this.canvas = undefined;\n",
       "    this.rubberband_canvas = undefined;\n",
       "    this.rubberband_context = undefined;\n",
       "    this.format_dropdown = undefined;\n",
       "\n",
       "    this.image_mode = 'full';\n",
       "\n",
       "    this.root = $('<div/>');\n",
       "    this._root_extra_style(this.root)\n",
       "    this.root.attr('style', 'display: inline-block');\n",
       "\n",
       "    $(parent_element).append(this.root);\n",
       "\n",
       "    this._init_header(this);\n",
       "    this._init_canvas(this);\n",
       "    this._init_toolbar(this);\n",
       "\n",
       "    var fig = this;\n",
       "\n",
       "    this.waiting = false;\n",
       "\n",
       "    this.ws.onopen =  function () {\n",
       "            fig.send_message(\"supports_binary\", {value: fig.supports_binary});\n",
       "            fig.send_message(\"send_image_mode\", {});\n",
       "            if (mpl.ratio != 1) {\n",
       "                fig.send_message(\"set_dpi_ratio\", {'dpi_ratio': mpl.ratio});\n",
       "            }\n",
       "            fig.send_message(\"refresh\", {});\n",
       "        }\n",
       "\n",
       "    this.imageObj.onload = function() {\n",
       "            if (fig.image_mode == 'full') {\n",
       "                // Full images could contain transparency (where diff images\n",
       "                // almost always do), so we need to clear the canvas so that\n",
       "                // there is no ghosting.\n",
       "                fig.context.clearRect(0, 0, fig.canvas.width, fig.canvas.height);\n",
       "            }\n",
       "            fig.context.drawImage(fig.imageObj, 0, 0);\n",
       "        };\n",
       "\n",
       "    this.imageObj.onunload = function() {\n",
       "        fig.ws.close();\n",
       "    }\n",
       "\n",
       "    this.ws.onmessage = this._make_on_message_function(this);\n",
       "\n",
       "    this.ondownload = ondownload;\n",
       "}\n",
       "\n",
       "mpl.figure.prototype._init_header = function() {\n",
       "    var titlebar = $(\n",
       "        '<div class=\"ui-dialog-titlebar ui-widget-header ui-corner-all ' +\n",
       "        'ui-helper-clearfix\"/>');\n",
       "    var titletext = $(\n",
       "        '<div class=\"ui-dialog-title\" style=\"width: 100%; ' +\n",
       "        'text-align: center; padding: 3px;\"/>');\n",
       "    titlebar.append(titletext)\n",
       "    this.root.append(titlebar);\n",
       "    this.header = titletext[0];\n",
       "}\n",
       "\n",
       "\n",
       "\n",
       "mpl.figure.prototype._canvas_extra_style = function(canvas_div) {\n",
       "\n",
       "}\n",
       "\n",
       "\n",
       "mpl.figure.prototype._root_extra_style = function(canvas_div) {\n",
       "\n",
       "}\n",
       "\n",
       "mpl.figure.prototype._init_canvas = function() {\n",
       "    var fig = this;\n",
       "\n",
       "    var canvas_div = $('<div/>');\n",
       "\n",
       "    canvas_div.attr('style', 'position: relative; clear: both; outline: 0');\n",
       "\n",
       "    function canvas_keyboard_event(event) {\n",
       "        return fig.key_event(event, event['data']);\n",
       "    }\n",
       "\n",
       "    canvas_div.keydown('key_press', canvas_keyboard_event);\n",
       "    canvas_div.keyup('key_release', canvas_keyboard_event);\n",
       "    this.canvas_div = canvas_div\n",
       "    this._canvas_extra_style(canvas_div)\n",
       "    this.root.append(canvas_div);\n",
       "\n",
       "    var canvas = $('<canvas/>');\n",
       "    canvas.addClass('mpl-canvas');\n",
       "    canvas.attr('style', \"left: 0; top: 0; z-index: 0; outline: 0\")\n",
       "\n",
       "    this.canvas = canvas[0];\n",
       "    this.context = canvas[0].getContext(\"2d\");\n",
       "\n",
       "    var backingStore = this.context.backingStorePixelRatio ||\n",
       "\tthis.context.webkitBackingStorePixelRatio ||\n",
       "\tthis.context.mozBackingStorePixelRatio ||\n",
       "\tthis.context.msBackingStorePixelRatio ||\n",
       "\tthis.context.oBackingStorePixelRatio ||\n",
       "\tthis.context.backingStorePixelRatio || 1;\n",
       "\n",
       "    mpl.ratio = (window.devicePixelRatio || 1) / backingStore;\n",
       "\n",
       "    var rubberband = $('<canvas/>');\n",
       "    rubberband.attr('style', \"position: absolute; left: 0; top: 0; z-index: 1;\")\n",
       "\n",
       "    var pass_mouse_events = true;\n",
       "\n",
       "    canvas_div.resizable({\n",
       "        start: function(event, ui) {\n",
       "            pass_mouse_events = false;\n",
       "        },\n",
       "        resize: function(event, ui) {\n",
       "            fig.request_resize(ui.size.width, ui.size.height);\n",
       "        },\n",
       "        stop: function(event, ui) {\n",
       "            pass_mouse_events = true;\n",
       "            fig.request_resize(ui.size.width, ui.size.height);\n",
       "        },\n",
       "    });\n",
       "\n",
       "    function mouse_event_fn(event) {\n",
       "        if (pass_mouse_events)\n",
       "            return fig.mouse_event(event, event['data']);\n",
       "    }\n",
       "\n",
       "    rubberband.mousedown('button_press', mouse_event_fn);\n",
       "    rubberband.mouseup('button_release', mouse_event_fn);\n",
       "    // Throttle sequential mouse events to 1 every 20ms.\n",
       "    rubberband.mousemove('motion_notify', mouse_event_fn);\n",
       "\n",
       "    rubberband.mouseenter('figure_enter', mouse_event_fn);\n",
       "    rubberband.mouseleave('figure_leave', mouse_event_fn);\n",
       "\n",
       "    canvas_div.on(\"wheel\", function (event) {\n",
       "        event = event.originalEvent;\n",
       "        event['data'] = 'scroll'\n",
       "        if (event.deltaY < 0) {\n",
       "            event.step = 1;\n",
       "        } else {\n",
       "            event.step = -1;\n",
       "        }\n",
       "        mouse_event_fn(event);\n",
       "    });\n",
       "\n",
       "    canvas_div.append(canvas);\n",
       "    canvas_div.append(rubberband);\n",
       "\n",
       "    this.rubberband = rubberband;\n",
       "    this.rubberband_canvas = rubberband[0];\n",
       "    this.rubberband_context = rubberband[0].getContext(\"2d\");\n",
       "    this.rubberband_context.strokeStyle = \"#000000\";\n",
       "\n",
       "    this._resize_canvas = function(width, height) {\n",
       "        // Keep the size of the canvas, canvas container, and rubber band\n",
       "        // canvas in synch.\n",
       "        canvas_div.css('width', width)\n",
       "        canvas_div.css('height', height)\n",
       "\n",
       "        canvas.attr('width', width * mpl.ratio);\n",
       "        canvas.attr('height', height * mpl.ratio);\n",
       "        canvas.attr('style', 'width: ' + width + 'px; height: ' + height + 'px;');\n",
       "\n",
       "        rubberband.attr('width', width);\n",
       "        rubberband.attr('height', height);\n",
       "    }\n",
       "\n",
       "    // Set the figure to an initial 600x600px, this will subsequently be updated\n",
       "    // upon first draw.\n",
       "    this._resize_canvas(600, 600);\n",
       "\n",
       "    // Disable right mouse context menu.\n",
       "    $(this.rubberband_canvas).bind(\"contextmenu\",function(e){\n",
       "        return false;\n",
       "    });\n",
       "\n",
       "    function set_focus () {\n",
       "        canvas.focus();\n",
       "        canvas_div.focus();\n",
       "    }\n",
       "\n",
       "    window.setTimeout(set_focus, 100);\n",
       "}\n",
       "\n",
       "mpl.figure.prototype._init_toolbar = function() {\n",
       "    var fig = this;\n",
       "\n",
       "    var nav_element = $('<div/>')\n",
       "    nav_element.attr('style', 'width: 100%');\n",
       "    this.root.append(nav_element);\n",
       "\n",
       "    // Define a callback function for later on.\n",
       "    function toolbar_event(event) {\n",
       "        return fig.toolbar_button_onclick(event['data']);\n",
       "    }\n",
       "    function toolbar_mouse_event(event) {\n",
       "        return fig.toolbar_button_onmouseover(event['data']);\n",
       "    }\n",
       "\n",
       "    for(var toolbar_ind in mpl.toolbar_items) {\n",
       "        var name = mpl.toolbar_items[toolbar_ind][0];\n",
       "        var tooltip = mpl.toolbar_items[toolbar_ind][1];\n",
       "        var image = mpl.toolbar_items[toolbar_ind][2];\n",
       "        var method_name = mpl.toolbar_items[toolbar_ind][3];\n",
       "\n",
       "        if (!name) {\n",
       "            // put a spacer in here.\n",
       "            continue;\n",
       "        }\n",
       "        var button = $('<button/>');\n",
       "        button.addClass('ui-button ui-widget ui-state-default ui-corner-all ' +\n",
       "                        'ui-button-icon-only');\n",
       "        button.attr('role', 'button');\n",
       "        button.attr('aria-disabled', 'false');\n",
       "        button.click(method_name, toolbar_event);\n",
       "        button.mouseover(tooltip, toolbar_mouse_event);\n",
       "\n",
       "        var icon_img = $('<span/>');\n",
       "        icon_img.addClass('ui-button-icon-primary ui-icon');\n",
       "        icon_img.addClass(image);\n",
       "        icon_img.addClass('ui-corner-all');\n",
       "\n",
       "        var tooltip_span = $('<span/>');\n",
       "        tooltip_span.addClass('ui-button-text');\n",
       "        tooltip_span.html(tooltip);\n",
       "\n",
       "        button.append(icon_img);\n",
       "        button.append(tooltip_span);\n",
       "\n",
       "        nav_element.append(button);\n",
       "    }\n",
       "\n",
       "    var fmt_picker_span = $('<span/>');\n",
       "\n",
       "    var fmt_picker = $('<select/>');\n",
       "    fmt_picker.addClass('mpl-toolbar-option ui-widget ui-widget-content');\n",
       "    fmt_picker_span.append(fmt_picker);\n",
       "    nav_element.append(fmt_picker_span);\n",
       "    this.format_dropdown = fmt_picker[0];\n",
       "\n",
       "    for (var ind in mpl.extensions) {\n",
       "        var fmt = mpl.extensions[ind];\n",
       "        var option = $(\n",
       "            '<option/>', {selected: fmt === mpl.default_extension}).html(fmt);\n",
       "        fmt_picker.append(option)\n",
       "    }\n",
       "\n",
       "    // Add hover states to the ui-buttons\n",
       "    $( \".ui-button\" ).hover(\n",
       "        function() { $(this).addClass(\"ui-state-hover\");},\n",
       "        function() { $(this).removeClass(\"ui-state-hover\");}\n",
       "    );\n",
       "\n",
       "    var status_bar = $('<span class=\"mpl-message\"/>');\n",
       "    nav_element.append(status_bar);\n",
       "    this.message = status_bar[0];\n",
       "}\n",
       "\n",
       "mpl.figure.prototype.request_resize = function(x_pixels, y_pixels) {\n",
       "    // Request matplotlib to resize the figure. Matplotlib will then trigger a resize in the client,\n",
       "    // which will in turn request a refresh of the image.\n",
       "    this.send_message('resize', {'width': x_pixels, 'height': y_pixels});\n",
       "}\n",
       "\n",
       "mpl.figure.prototype.send_message = function(type, properties) {\n",
       "    properties['type'] = type;\n",
       "    properties['figure_id'] = this.id;\n",
       "    this.ws.send(JSON.stringify(properties));\n",
       "}\n",
       "\n",
       "mpl.figure.prototype.send_draw_message = function() {\n",
       "    if (!this.waiting) {\n",
       "        this.waiting = true;\n",
       "        this.ws.send(JSON.stringify({type: \"draw\", figure_id: this.id}));\n",
       "    }\n",
       "}\n",
       "\n",
       "\n",
       "mpl.figure.prototype.handle_save = function(fig, msg) {\n",
       "    var format_dropdown = fig.format_dropdown;\n",
       "    var format = format_dropdown.options[format_dropdown.selectedIndex].value;\n",
       "    fig.ondownload(fig, format);\n",
       "}\n",
       "\n",
       "\n",
       "mpl.figure.prototype.handle_resize = function(fig, msg) {\n",
       "    var size = msg['size'];\n",
       "    if (size[0] != fig.canvas.width || size[1] != fig.canvas.height) {\n",
       "        fig._resize_canvas(size[0], size[1]);\n",
       "        fig.send_message(\"refresh\", {});\n",
       "    };\n",
       "}\n",
       "\n",
       "mpl.figure.prototype.handle_rubberband = function(fig, msg) {\n",
       "    var x0 = msg['x0'] / mpl.ratio;\n",
       "    var y0 = (fig.canvas.height - msg['y0']) / mpl.ratio;\n",
       "    var x1 = msg['x1'] / mpl.ratio;\n",
       "    var y1 = (fig.canvas.height - msg['y1']) / mpl.ratio;\n",
       "    x0 = Math.floor(x0) + 0.5;\n",
       "    y0 = Math.floor(y0) + 0.5;\n",
       "    x1 = Math.floor(x1) + 0.5;\n",
       "    y1 = Math.floor(y1) + 0.5;\n",
       "    var min_x = Math.min(x0, x1);\n",
       "    var min_y = Math.min(y0, y1);\n",
       "    var width = Math.abs(x1 - x0);\n",
       "    var height = Math.abs(y1 - y0);\n",
       "\n",
       "    fig.rubberband_context.clearRect(\n",
       "        0, 0, fig.canvas.width, fig.canvas.height);\n",
       "\n",
       "    fig.rubberband_context.strokeRect(min_x, min_y, width, height);\n",
       "}\n",
       "\n",
       "mpl.figure.prototype.handle_figure_label = function(fig, msg) {\n",
       "    // Updates the figure title.\n",
       "    fig.header.textContent = msg['label'];\n",
       "}\n",
       "\n",
       "mpl.figure.prototype.handle_cursor = function(fig, msg) {\n",
       "    var cursor = msg['cursor'];\n",
       "    switch(cursor)\n",
       "    {\n",
       "    case 0:\n",
       "        cursor = 'pointer';\n",
       "        break;\n",
       "    case 1:\n",
       "        cursor = 'default';\n",
       "        break;\n",
       "    case 2:\n",
       "        cursor = 'crosshair';\n",
       "        break;\n",
       "    case 3:\n",
       "        cursor = 'move';\n",
       "        break;\n",
       "    }\n",
       "    fig.rubberband_canvas.style.cursor = cursor;\n",
       "}\n",
       "\n",
       "mpl.figure.prototype.handle_message = function(fig, msg) {\n",
       "    fig.message.textContent = msg['message'];\n",
       "}\n",
       "\n",
       "mpl.figure.prototype.handle_draw = function(fig, msg) {\n",
       "    // Request the server to send over a new figure.\n",
       "    fig.send_draw_message();\n",
       "}\n",
       "\n",
       "mpl.figure.prototype.handle_image_mode = function(fig, msg) {\n",
       "    fig.image_mode = msg['mode'];\n",
       "}\n",
       "\n",
       "mpl.figure.prototype.updated_canvas_event = function() {\n",
       "    // Called whenever the canvas gets updated.\n",
       "    this.send_message(\"ack\", {});\n",
       "}\n",
       "\n",
       "// A function to construct a web socket function for onmessage handling.\n",
       "// Called in the figure constructor.\n",
       "mpl.figure.prototype._make_on_message_function = function(fig) {\n",
       "    return function socket_on_message(evt) {\n",
       "        if (evt.data instanceof Blob) {\n",
       "            /* FIXME: We get \"Resource interpreted as Image but\n",
       "             * transferred with MIME type text/plain:\" errors on\n",
       "             * Chrome.  But how to set the MIME type?  It doesn't seem\n",
       "             * to be part of the websocket stream */\n",
       "            evt.data.type = \"image/png\";\n",
       "\n",
       "            /* Free the memory for the previous frames */\n",
       "            if (fig.imageObj.src) {\n",
       "                (window.URL || window.webkitURL).revokeObjectURL(\n",
       "                    fig.imageObj.src);\n",
       "            }\n",
       "\n",
       "            fig.imageObj.src = (window.URL || window.webkitURL).createObjectURL(\n",
       "                evt.data);\n",
       "            fig.updated_canvas_event();\n",
       "            fig.waiting = false;\n",
       "            return;\n",
       "        }\n",
       "        else if (typeof evt.data === 'string' && evt.data.slice(0, 21) == \"data:image/png;base64\") {\n",
       "            fig.imageObj.src = evt.data;\n",
       "            fig.updated_canvas_event();\n",
       "            fig.waiting = false;\n",
       "            return;\n",
       "        }\n",
       "\n",
       "        var msg = JSON.parse(evt.data);\n",
       "        var msg_type = msg['type'];\n",
       "\n",
       "        // Call the  \"handle_{type}\" callback, which takes\n",
       "        // the figure and JSON message as its only arguments.\n",
       "        try {\n",
       "            var callback = fig[\"handle_\" + msg_type];\n",
       "        } catch (e) {\n",
       "            console.log(\"No handler for the '\" + msg_type + \"' message type: \", msg);\n",
       "            return;\n",
       "        }\n",
       "\n",
       "        if (callback) {\n",
       "            try {\n",
       "                // console.log(\"Handling '\" + msg_type + \"' message: \", msg);\n",
       "                callback(fig, msg);\n",
       "            } catch (e) {\n",
       "                console.log(\"Exception inside the 'handler_\" + msg_type + \"' callback:\", e, e.stack, msg);\n",
       "            }\n",
       "        }\n",
       "    };\n",
       "}\n",
       "\n",
       "// from http://stackoverflow.com/questions/1114465/getting-mouse-location-in-canvas\n",
       "mpl.findpos = function(e) {\n",
       "    //this section is from http://www.quirksmode.org/js/events_properties.html\n",
       "    var targ;\n",
       "    if (!e)\n",
       "        e = window.event;\n",
       "    if (e.target)\n",
       "        targ = e.target;\n",
       "    else if (e.srcElement)\n",
       "        targ = e.srcElement;\n",
       "    if (targ.nodeType == 3) // defeat Safari bug\n",
       "        targ = targ.parentNode;\n",
       "\n",
       "    // jQuery normalizes the pageX and pageY\n",
       "    // pageX,Y are the mouse positions relative to the document\n",
       "    // offset() returns the position of the element relative to the document\n",
       "    var x = e.pageX - $(targ).offset().left;\n",
       "    var y = e.pageY - $(targ).offset().top;\n",
       "\n",
       "    return {\"x\": x, \"y\": y};\n",
       "};\n",
       "\n",
       "/*\n",
       " * return a copy of an object with only non-object keys\n",
       " * we need this to avoid circular references\n",
       " * http://stackoverflow.com/a/24161582/3208463\n",
       " */\n",
       "function simpleKeys (original) {\n",
       "  return Object.keys(original).reduce(function (obj, key) {\n",
       "    if (typeof original[key] !== 'object')\n",
       "        obj[key] = original[key]\n",
       "    return obj;\n",
       "  }, {});\n",
       "}\n",
       "\n",
       "mpl.figure.prototype.mouse_event = function(event, name) {\n",
       "    var canvas_pos = mpl.findpos(event)\n",
       "\n",
       "    if (name === 'button_press')\n",
       "    {\n",
       "        this.canvas.focus();\n",
       "        this.canvas_div.focus();\n",
       "    }\n",
       "\n",
       "    var x = canvas_pos.x * mpl.ratio;\n",
       "    var y = canvas_pos.y * mpl.ratio;\n",
       "\n",
       "    this.send_message(name, {x: x, y: y, button: event.button,\n",
       "                             step: event.step,\n",
       "                             guiEvent: simpleKeys(event)});\n",
       "\n",
       "    /* This prevents the web browser from automatically changing to\n",
       "     * the text insertion cursor when the button is pressed.  We want\n",
       "     * to control all of the cursor setting manually through the\n",
       "     * 'cursor' event from matplotlib */\n",
       "    event.preventDefault();\n",
       "    return false;\n",
       "}\n",
       "\n",
       "mpl.figure.prototype._key_event_extra = function(event, name) {\n",
       "    // Handle any extra behaviour associated with a key event\n",
       "}\n",
       "\n",
       "mpl.figure.prototype.key_event = function(event, name) {\n",
       "\n",
       "    // Prevent repeat events\n",
       "    if (name == 'key_press')\n",
       "    {\n",
       "        if (event.which === this._key)\n",
       "            return;\n",
       "        else\n",
       "            this._key = event.which;\n",
       "    }\n",
       "    if (name == 'key_release')\n",
       "        this._key = null;\n",
       "\n",
       "    var value = '';\n",
       "    if (event.ctrlKey && event.which != 17)\n",
       "        value += \"ctrl+\";\n",
       "    if (event.altKey && event.which != 18)\n",
       "        value += \"alt+\";\n",
       "    if (event.shiftKey && event.which != 16)\n",
       "        value += \"shift+\";\n",
       "\n",
       "    value += 'k';\n",
       "    value += event.which.toString();\n",
       "\n",
       "    this._key_event_extra(event, name);\n",
       "\n",
       "    this.send_message(name, {key: value,\n",
       "                             guiEvent: simpleKeys(event)});\n",
       "    return false;\n",
       "}\n",
       "\n",
       "mpl.figure.prototype.toolbar_button_onclick = function(name) {\n",
       "    if (name == 'download') {\n",
       "        this.handle_save(this, null);\n",
       "    } else {\n",
       "        this.send_message(\"toolbar_button\", {name: name});\n",
       "    }\n",
       "};\n",
       "\n",
       "mpl.figure.prototype.toolbar_button_onmouseover = function(tooltip) {\n",
       "    this.message.textContent = tooltip;\n",
       "};\n",
       "mpl.toolbar_items = [[\"Home\", \"Reset original view\", \"fa fa-home icon-home\", \"home\"], [\"Back\", \"Back to previous view\", \"fa fa-arrow-left icon-arrow-left\", \"back\"], [\"Forward\", \"Forward to next view\", \"fa fa-arrow-right icon-arrow-right\", \"forward\"], [\"\", \"\", \"\", \"\"], [\"Pan\", \"Pan axes with left mouse, zoom with right\", \"fa fa-arrows icon-move\", \"pan\"], [\"Zoom\", \"Zoom to rectangle\", \"fa fa-square-o icon-check-empty\", \"zoom\"], [\"\", \"\", \"\", \"\"], [\"Download\", \"Download plot\", \"fa fa-floppy-o icon-save\", \"download\"]];\n",
       "\n",
       "mpl.extensions = [\"eps\", \"jpeg\", \"pdf\", \"png\", \"ps\", \"raw\", \"svg\", \"tif\"];\n",
       "\n",
       "mpl.default_extension = \"png\";var comm_websocket_adapter = function(comm) {\n",
       "    // Create a \"websocket\"-like object which calls the given IPython comm\n",
       "    // object with the appropriate methods. Currently this is a non binary\n",
       "    // socket, so there is still some room for performance tuning.\n",
       "    var ws = {};\n",
       "\n",
       "    ws.close = function() {\n",
       "        comm.close()\n",
       "    };\n",
       "    ws.send = function(m) {\n",
       "        //console.log('sending', m);\n",
       "        comm.send(m);\n",
       "    };\n",
       "    // Register the callback with on_msg.\n",
       "    comm.on_msg(function(msg) {\n",
       "        //console.log('receiving', msg['content']['data'], msg);\n",
       "        // Pass the mpl event to the overridden (by mpl) onmessage function.\n",
       "        ws.onmessage(msg['content']['data'])\n",
       "    });\n",
       "    return ws;\n",
       "}\n",
       "\n",
       "mpl.mpl_figure_comm = function(comm, msg) {\n",
       "    // This is the function which gets called when the mpl process\n",
       "    // starts-up an IPython Comm through the \"matplotlib\" channel.\n",
       "\n",
       "    var id = msg.content.data.id;\n",
       "    // Get hold of the div created by the display call when the Comm\n",
       "    // socket was opened in Python.\n",
       "    var element = $(\"#\" + id);\n",
       "    var ws_proxy = comm_websocket_adapter(comm)\n",
       "\n",
       "    function ondownload(figure, format) {\n",
       "        window.open(figure.imageObj.src);\n",
       "    }\n",
       "\n",
       "    var fig = new mpl.figure(id, ws_proxy,\n",
       "                           ondownload,\n",
       "                           element.get(0));\n",
       "\n",
       "    // Call onopen now - mpl needs it, as it is assuming we've passed it a real\n",
       "    // web socket which is closed, not our websocket->open comm proxy.\n",
       "    ws_proxy.onopen();\n",
       "\n",
       "    fig.parent_element = element.get(0);\n",
       "    fig.cell_info = mpl.find_output_cell(\"<div id='\" + id + \"'></div>\");\n",
       "    if (!fig.cell_info) {\n",
       "        console.error(\"Failed to find cell for figure\", id, fig);\n",
       "        return;\n",
       "    }\n",
       "\n",
       "    var output_index = fig.cell_info[2]\n",
       "    var cell = fig.cell_info[0];\n",
       "\n",
       "};\n",
       "\n",
       "mpl.figure.prototype.handle_close = function(fig, msg) {\n",
       "    var width = fig.canvas.width/mpl.ratio\n",
       "    fig.root.unbind('remove')\n",
       "\n",
       "    // Update the output cell to use the data from the current canvas.\n",
       "    fig.push_to_output();\n",
       "    var dataURL = fig.canvas.toDataURL();\n",
       "    // Re-enable the keyboard manager in IPython - without this line, in FF,\n",
       "    // the notebook keyboard shortcuts fail.\n",
       "    IPython.keyboard_manager.enable()\n",
       "    $(fig.parent_element).html('<img src=\"' + dataURL + '\" width=\"' + width + '\">');\n",
       "    fig.close_ws(fig, msg);\n",
       "}\n",
       "\n",
       "mpl.figure.prototype.close_ws = function(fig, msg){\n",
       "    fig.send_message('closing', msg);\n",
       "    // fig.ws.close()\n",
       "}\n",
       "\n",
       "mpl.figure.prototype.push_to_output = function(remove_interactive) {\n",
       "    // Turn the data on the canvas into data in the output cell.\n",
       "    var width = this.canvas.width/mpl.ratio\n",
       "    var dataURL = this.canvas.toDataURL();\n",
       "    this.cell_info[1]['text/html'] = '<img src=\"' + dataURL + '\" width=\"' + width + '\">';\n",
       "}\n",
       "\n",
       "mpl.figure.prototype.updated_canvas_event = function() {\n",
       "    // Tell IPython that the notebook contents must change.\n",
       "    IPython.notebook.set_dirty(true);\n",
       "    this.send_message(\"ack\", {});\n",
       "    var fig = this;\n",
       "    // Wait a second, then push the new image to the DOM so\n",
       "    // that it is saved nicely (might be nice to debounce this).\n",
       "    setTimeout(function () { fig.push_to_output() }, 1000);\n",
       "}\n",
       "\n",
       "mpl.figure.prototype._init_toolbar = function() {\n",
       "    var fig = this;\n",
       "\n",
       "    var nav_element = $('<div/>')\n",
       "    nav_element.attr('style', 'width: 100%');\n",
       "    this.root.append(nav_element);\n",
       "\n",
       "    // Define a callback function for later on.\n",
       "    function toolbar_event(event) {\n",
       "        return fig.toolbar_button_onclick(event['data']);\n",
       "    }\n",
       "    function toolbar_mouse_event(event) {\n",
       "        return fig.toolbar_button_onmouseover(event['data']);\n",
       "    }\n",
       "\n",
       "    for(var toolbar_ind in mpl.toolbar_items){\n",
       "        var name = mpl.toolbar_items[toolbar_ind][0];\n",
       "        var tooltip = mpl.toolbar_items[toolbar_ind][1];\n",
       "        var image = mpl.toolbar_items[toolbar_ind][2];\n",
       "        var method_name = mpl.toolbar_items[toolbar_ind][3];\n",
       "\n",
       "        if (!name) { continue; };\n",
       "\n",
       "        var button = $('<button class=\"btn btn-default\" href=\"#\" title=\"' + name + '\"><i class=\"fa ' + image + ' fa-lg\"></i></button>');\n",
       "        button.click(method_name, toolbar_event);\n",
       "        button.mouseover(tooltip, toolbar_mouse_event);\n",
       "        nav_element.append(button);\n",
       "    }\n",
       "\n",
       "    // Add the status bar.\n",
       "    var status_bar = $('<span class=\"mpl-message\" style=\"text-align:right; float: right;\"/>');\n",
       "    nav_element.append(status_bar);\n",
       "    this.message = status_bar[0];\n",
       "\n",
       "    // Add the close button to the window.\n",
       "    var buttongrp = $('<div class=\"btn-group inline pull-right\"></div>');\n",
       "    var button = $('<button class=\"btn btn-mini btn-primary\" href=\"#\" title=\"Stop Interaction\"><i class=\"fa fa-power-off icon-remove icon-large\"></i></button>');\n",
       "    button.click(function (evt) { fig.handle_close(fig, {}); } );\n",
       "    button.mouseover('Stop Interaction', toolbar_mouse_event);\n",
       "    buttongrp.append(button);\n",
       "    var titlebar = this.root.find($('.ui-dialog-titlebar'));\n",
       "    titlebar.prepend(buttongrp);\n",
       "}\n",
       "\n",
       "mpl.figure.prototype._root_extra_style = function(el){\n",
       "    var fig = this\n",
       "    el.on(\"remove\", function(){\n",
       "\tfig.close_ws(fig, {});\n",
       "    });\n",
       "}\n",
       "\n",
       "mpl.figure.prototype._canvas_extra_style = function(el){\n",
       "    // this is important to make the div 'focusable\n",
       "    el.attr('tabindex', 0)\n",
       "    // reach out to IPython and tell the keyboard manager to turn it's self\n",
       "    // off when our div gets focus\n",
       "\n",
       "    // location in version 3\n",
       "    if (IPython.notebook.keyboard_manager) {\n",
       "        IPython.notebook.keyboard_manager.register_events(el);\n",
       "    }\n",
       "    else {\n",
       "        // location in version 2\n",
       "        IPython.keyboard_manager.register_events(el);\n",
       "    }\n",
       "\n",
       "}\n",
       "\n",
       "mpl.figure.prototype._key_event_extra = function(event, name) {\n",
       "    var manager = IPython.notebook.keyboard_manager;\n",
       "    if (!manager)\n",
       "        manager = IPython.keyboard_manager;\n",
       "\n",
       "    // Check for shift+enter\n",
       "    if (event.shiftKey && event.which == 13) {\n",
       "        this.canvas_div.blur();\n",
       "        event.shiftKey = false;\n",
       "        // Send a \"J\" for go to next cell\n",
       "        event.which = 74;\n",
       "        event.keyCode = 74;\n",
       "        manager.command_mode();\n",
       "        manager.handle_keydown(event);\n",
       "    }\n",
       "}\n",
       "\n",
       "mpl.figure.prototype.handle_save = function(fig, msg) {\n",
       "    fig.ondownload(fig, null);\n",
       "}\n",
       "\n",
       "\n",
       "mpl.find_output_cell = function(html_output) {\n",
       "    // Return the cell and output element which can be found *uniquely* in the notebook.\n",
       "    // Note - this is a bit hacky, but it is done because the \"notebook_saving.Notebook\"\n",
       "    // IPython event is triggered only after the cells have been serialised, which for\n",
       "    // our purposes (turning an active figure into a static one), is too late.\n",
       "    var cells = IPython.notebook.get_cells();\n",
       "    var ncells = cells.length;\n",
       "    for (var i=0; i<ncells; i++) {\n",
       "        var cell = cells[i];\n",
       "        if (cell.cell_type === 'code'){\n",
       "            for (var j=0; j<cell.output_area.outputs.length; j++) {\n",
       "                var data = cell.output_area.outputs[j];\n",
       "                if (data.data) {\n",
       "                    // IPython >= 3 moved mimebundle to data attribute of output\n",
       "                    data = data.data;\n",
       "                }\n",
       "                if (data['text/html'] == html_output) {\n",
       "                    return [cell, data, j];\n",
       "                }\n",
       "            }\n",
       "        }\n",
       "    }\n",
       "}\n",
       "\n",
       "// Register the function which deals with the matplotlib target/channel.\n",
       "// The kernel may be null if the page has been refreshed.\n",
       "if (IPython.notebook.kernel != null) {\n",
       "    IPython.notebook.kernel.comm_manager.register_target('matplotlib', mpl.mpl_figure_comm);\n",
       "}\n"
      ],
      "text/plain": [
       "<IPython.core.display.Javascript object>"
      ]
     },
     "metadata": {},
     "output_type": "display_data"
    },
    {
     "data": {
      "text/html": [
       "<img src=\"data:image/png;base64,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\" width=\"640\">"
      ],
      "text/plain": [
       "<IPython.core.display.HTML object>"
      ]
     },
     "metadata": {},
     "output_type": "display_data"
    }
   ],
   "source": [
    "import matplotlib\n",
    "matplotlib.rcParams['animation.ffmpeg_path'] = r'ffmpeg.exe'\n",
    "from mpl_toolkits.mplot3d import Axes3D\n",
    "matplotlib.use(\"Agg\")\n",
    "import matplotlib.animation as animation\n",
    "%matplotlib notebook\n",
    "%matplotlib notebook\n",
    "import matplotlib.pyplot as plt\n",
    "\n",
    "segments=[\"LWrist\",\"LElbow\",'LShoulder','RShoulder',\"RElbow\",\"RWrist\"]\n",
    "def update_graph(num):\n",
    "    X,Y=[],[]\n",
    "    for seg in segments:\n",
    "        data=op_data_without_c[seg].iloc[num]\n",
    "        X.append(data.x)\n",
    "        Y.append(data.y)\n",
    "    graph.set_data(X, Y)\n",
    "    title.set_text('OpenPose reconstitution, time={}'.format(num))\n",
    "    return title, graph, \n",
    "\n",
    "\n",
    "fig = plt.figure()\n",
    "ax = fig.add_subplot(111)\n",
    "title = ax.set_title('OpenPose reconstitution')\n",
    "#ax.xlim=(df['Nico1:abd2']['X'].min(),df['Nico1:abd2']['X'].max())\n",
    "\n",
    "X,Y=[],[]\n",
    "num=200\n",
    "for seg in segments:\n",
    "    data=op_data_without_c[seg].iloc[num]\n",
    "    X.append(data.x)\n",
    "    Y.append(data.y)\n",
    "graph, = ax.plot(X, Y, linestyle=\"-\", marker=\"o\")\n",
    "\n",
    "ani = animation.FuncAnimation(fig, update_graph, \n",
    "                               interval=40, blit=True, repeat=False) #save_count=len(op_data2) if you want to save the animation\n",
    "\n",
    "ax.set_xlim(0,2000)\n",
    "ax.set_ylim(0,2000)\n",
    "\n",
    "#origine en haut à gauche de l'écran\n",
    "ax.set_ylim(ax.get_ylim()[::-1])\n",
    "ax.yaxis.tick_left()\n",
    "ax.xaxis.tick_top() \n",
    "\n",
    "\n",
    "## if you want to save the animation : \n",
    "#Writer = animation.writers['ffmpeg']\n",
    "#writer = Writer(fps=25, metadata=dict(artist='Me'), bitrate=1800)\n",
    "#ani.save('videos/OpenPose_animation.mp4', writer=writer)\n",
    "plt.show()\n"
   ]
  },
  {
   "cell_type": "code",
   "execution_count": null,
   "metadata": {},
   "outputs": [],
   "source": []
  }
 ],
 "metadata": {
  "kernelspec": {
   "display_name": "Python 3",
   "language": "python",
   "name": "python3"
  },
  "language_info": {
   "codemirror_mode": {
    "name": "ipython",
    "version": 3
   },
   "file_extension": ".py",
   "mimetype": "text/x-python",
   "name": "python",
   "nbconvert_exporter": "python",
   "pygments_lexer": "ipython3",
   "version": "3.7.3"
  }
 },
 "nbformat": 4,
 "nbformat_minor": 2
}
